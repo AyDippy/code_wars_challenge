{
 "cells": [
  {
   "cell_type": "code",
   "execution_count": 1,
   "id": "c142d10d",
   "metadata": {
    "ExecuteTime": {
     "end_time": "2023-05-22T04:40:32.384486Z",
     "start_time": "2023-05-22T04:40:32.357500Z"
    }
   },
   "outputs": [
    {
     "data": {
      "text/plain": [
       "'Your task is to write a function which returns the sum of following series upto nth term(parameter)\\nSeries: 1 + 1/4 + 1/7 + 1/10 + 1/13 + 1/16 +...\\n'"
      ]
     },
     "execution_count": 1,
     "metadata": {},
     "output_type": "execute_result"
    }
   ],
   "source": [
    "'''Your task is to write a function which returns the sum of following series upto nth term(parameter)\n",
    "Series: 1 + 1/4 + 1/7 + 1/10 + 1/13 + 1/16 +...\n",
    "'''"
   ]
  },
  {
   "cell_type": "code",
   "execution_count": 46,
   "id": "948e7141",
   "metadata": {
    "ExecuteTime": {
     "end_time": "2023-05-22T07:57:55.150046Z",
     "start_time": "2023-05-22T07:57:55.137050Z"
    },
    "run_control": {
     "marked": false
    }
   },
   "outputs": [
    {
     "data": {
      "text/plain": [
       "'0.00'"
      ]
     },
     "execution_count": 46,
     "metadata": {},
     "output_type": "execute_result"
    }
   ],
   "source": [
    "def series_sum(n):\n",
    "    ans = 1.0\n",
    "    i= 1.0\n",
    "    while n > i:\n",
    "        ans += 1/((3*i) + 1)\n",
    "        i += round(float(1))\n",
    "    if n < 1:\n",
    "         ans = 0\n",
    "    return f'{format(ans,\".2f\")}'\n",
    "\n",
    "   \n",
    "series_sum(0)"
   ]
  },
  {
   "cell_type": "code",
   "execution_count": 15,
   "id": "9d79ea5f",
   "metadata": {
    "ExecuteTime": {
     "end_time": "2023-05-22T04:47:17.144350Z",
     "start_time": "2023-05-22T04:47:17.127360Z"
    },
    "run_control": {
     "marked": false
    }
   },
   "outputs": [
    {
     "data": {
      "text/plain": [
       "1.5697802197802198"
      ]
     },
     "execution_count": 15,
     "metadata": {},
     "output_type": "execute_result"
    }
   ],
   "source": [
    "def series_sum(n):\n",
    "    ans = 1.0\n",
    "    i= 1.0\n",
    "    while n > i:\n",
    "        ans += 1/((3*i) + 1)\n",
    "        i += 1\n",
    "    if round(ans,2) == 2.4:\n",
    "        return 'Hey'\n",
    "    return ans\n",
    "series_sum(5)"
   ]
  },
  {
   "cell_type": "code",
   "execution_count": 11,
   "id": "32839d8b",
   "metadata": {
    "ExecuteTime": {
     "end_time": "2023-05-22T04:42:50.401343Z",
     "start_time": "2023-05-22T04:42:50.387351Z"
    }
   },
   "outputs": [
    {
     "data": {
      "text/plain": [
       "2.5039938152175263"
      ]
     },
     "execution_count": 11,
     "metadata": {},
     "output_type": "execute_result"
    }
   ],
   "source": [
    "series_sum(80)"
   ]
  },
  {
   "cell_type": "code",
   "execution_count": 8,
   "id": "c4bdeaa3",
   "metadata": {
    "ExecuteTime": {
     "end_time": "2023-05-23T19:32:55.605603Z",
     "start_time": "2023-05-23T19:32:54.613678Z"
    }
   },
   "outputs": [
    {
     "ename": "ValueError",
     "evalue": "Invalid format specifier",
     "output_type": "error",
     "traceback": [
      "\u001b[1;31m---------------------------------------------------------------------------\u001b[0m",
      "\u001b[1;31mValueError\u001b[0m                                Traceback (most recent call last)",
      "\u001b[1;32m<ipython-input-8-76fd99670583>\u001b[0m in \u001b[0;36m<module>\u001b[1;34m\u001b[0m\n\u001b[1;32m----> 1\u001b[1;33m \u001b[0mformat\u001b[0m\u001b[1;33m(\u001b[0m\u001b[1;36m0\u001b[0m\u001b[1;33m,\u001b[0m \u001b[1;34m'hex'\u001b[0m\u001b[1;33m)\u001b[0m\u001b[1;33m\u001b[0m\u001b[1;33m\u001b[0m\u001b[0m\n\u001b[0m",
      "\u001b[1;31mValueError\u001b[0m: Invalid format specifier"
     ]
    }
   ],
   "source": [
    "format(0, 'hex')"
   ]
  },
  {
   "cell_type": "code",
   "execution_count": null,
   "id": "671159a0",
   "metadata": {},
   "outputs": [],
   "source": []
  }
 ],
 "metadata": {
  "hide_input": false,
  "kernelspec": {
   "display_name": "Python 3",
   "language": "python",
   "name": "python3"
  },
  "language_info": {
   "codemirror_mode": {
    "name": "ipython",
    "version": 3
   },
   "file_extension": ".py",
   "mimetype": "text/x-python",
   "name": "python",
   "nbconvert_exporter": "python",
   "pygments_lexer": "ipython3",
   "version": "3.8.8"
  },
  "latex_envs": {
   "LaTeX_envs_menu_present": true,
   "autoclose": false,
   "autocomplete": true,
   "bibliofile": "biblio.bib",
   "cite_by": "apalike",
   "current_citInitial": 1,
   "eqLabelWithNumbers": true,
   "eqNumInitial": 1,
   "hotkeys": {
    "equation": "Ctrl-E",
    "itemize": "Ctrl-I"
   },
   "labels_anchors": false,
   "latex_user_defs": false,
   "report_style_numbering": false,
   "user_envs_cfg": false
  },
  "nbTranslate": {
   "displayLangs": [
    "*"
   ],
   "hotkey": "alt-t",
   "langInMainMenu": true,
   "sourceLang": "en",
   "targetLang": "fr",
   "useGoogleTranslate": true
  },
  "toc": {
   "base_numbering": 1,
   "nav_menu": {},
   "number_sections": true,
   "sideBar": true,
   "skip_h1_title": false,
   "title_cell": "Table of Contents",
   "title_sidebar": "Contents",
   "toc_cell": false,
   "toc_position": {},
   "toc_section_display": true,
   "toc_window_display": false
  },
  "varInspector": {
   "cols": {
    "lenName": 16,
    "lenType": 16,
    "lenVar": 40
   },
   "kernels_config": {
    "python": {
     "delete_cmd_postfix": "",
     "delete_cmd_prefix": "del ",
     "library": "var_list.py",
     "varRefreshCmd": "print(var_dic_list())"
    },
    "r": {
     "delete_cmd_postfix": ") ",
     "delete_cmd_prefix": "rm(",
     "library": "var_list.r",
     "varRefreshCmd": "cat(var_dic_list()) "
    }
   },
   "types_to_exclude": [
    "module",
    "function",
    "builtin_function_or_method",
    "instance",
    "_Feature"
   ],
   "window_display": false
  }
 },
 "nbformat": 4,
 "nbformat_minor": 5
}
