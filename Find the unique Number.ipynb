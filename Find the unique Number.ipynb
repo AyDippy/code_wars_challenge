{
 "cells": [
  {
   "cell_type": "code",
   "execution_count": 1,
   "id": "da9d6685",
   "metadata": {},
   "outputs": [],
   "source": [
    "# There is an array with some numbers. All numbers are equal except for one. Try to find it!\n",
    "\n",
    "# find_uniq([ 1, 1, 1, 2, 1, 1 ]) == 2\n",
    "# find_uniq([ 0, 0, 0.55, 0, 0 ]) == 0.55\n",
    "# It’s guaranteed that array contains at least 3 numbers."
   ]
  },
  {
   "cell_type": "code",
   "execution_count": 82,
   "id": "33ea8dc1",
   "metadata": {},
   "outputs": [],
   "source": [
    "def find_uniq(arr):\n",
    "    arr_dic = {}\n",
    "    for i in arr:\n",
    "        arr_dic[i] = arr_dic.get(i, 0)+1\n",
    "    for j,k in arr_dic.items():   \n",
    "        if arr_dic[j] == 1:\n",
    "            return j"
   ]
  },
  {
   "cell_type": "code",
   "execution_count": 83,
   "id": "fc3d6ff3",
   "metadata": {},
   "outputs": [
    {
     "data": {
      "text/plain": [
       "50"
      ]
     },
     "execution_count": 83,
     "metadata": {},
     "output_type": "execute_result"
    }
   ],
   "source": [
    "find_uniq([ 0, 0, 50, 0, 0 ])"
   ]
  }
 ],
 "metadata": {
  "kernelspec": {
   "display_name": "Python 3 (ipykernel)",
   "language": "python",
   "name": "python3"
  },
  "language_info": {
   "codemirror_mode": {
    "name": "ipython",
    "version": 3
   },
   "file_extension": ".py",
   "mimetype": "text/x-python",
   "name": "python",
   "nbconvert_exporter": "python",
   "pygments_lexer": "ipython3",
   "version": "3.10.9"
  }
 },
 "nbformat": 4,
 "nbformat_minor": 5
}
