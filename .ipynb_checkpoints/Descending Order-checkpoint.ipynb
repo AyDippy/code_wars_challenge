{
 "cells": [
  {
   "cell_type": "code",
   "execution_count": 1,
   "id": "dc4172f7",
   "metadata": {
    "ExecuteTime": {
     "end_time": "2023-05-30T00:56:17.520076Z",
     "start_time": "2023-05-30T00:56:17.513077Z"
    }
   },
   "outputs": [],
   "source": [
    "#Your task is to make a function that can take any non-negative integer as an argument and return it with its digits in descending order. Essentially, rearrange the digits to create the highest possible number.\n",
    "\n",
    "# Input: 42145 Output: 54421\n",
    "\n",
    "# Input: 145263 Output: 654321\n",
    "\n",
    "# Input: 123456789 Output: 987654321"
   ]
  },
  {
   "cell_type": "code",
   "execution_count": 2,
   "id": "cc2e4127",
   "metadata": {
    "ExecuteTime": {
     "end_time": "2023-05-30T00:58:36.903113Z",
     "start_time": "2023-05-30T00:58:36.890121Z"
    }
   },
   "outputs": [],
   "source": [
    "num = 42145"
   ]
  },
  {
   "cell_type": "code",
   "execution_count": 7,
   "id": "6d10f53a",
   "metadata": {
    "ExecuteTime": {
     "end_time": "2023-05-30T00:59:40.732496Z",
     "start_time": "2023-05-30T00:59:40.722499Z"
    }
   },
   "outputs": [],
   "source": [
    "str_num = list(str(num))"
   ]
  },
  {
   "cell_type": "code",
   "execution_count": 8,
   "id": "2f6eae96",
   "metadata": {
    "ExecuteTime": {
     "end_time": "2023-05-30T01:00:26.518847Z",
     "start_time": "2023-05-30T01:00:26.507854Z"
    }
   },
   "outputs": [],
   "source": [
    "ans = [int(i) for i in str_num]"
   ]
  },
  {
   "cell_type": "code",
   "execution_count": 11,
   "id": "3d655d8f",
   "metadata": {
    "ExecuteTime": {
     "end_time": "2023-05-30T01:00:47.539173Z",
     "start_time": "2023-05-30T01:00:47.528177Z"
    }
   },
   "outputs": [],
   "source": [
    "ans.sort(reverse=True)"
   ]
  },
  {
   "cell_type": "code",
   "execution_count": 13,
   "id": "6bb41f8c",
   "metadata": {
    "ExecuteTime": {
     "end_time": "2023-05-30T01:01:26.029461Z",
     "start_time": "2023-05-30T01:01:26.018467Z"
    }
   },
   "outputs": [],
   "source": [
    "ans_str = [str(j) for j in ans]"
   ]
  },
  {
   "cell_type": "code",
   "execution_count": 14,
   "id": "9f5eb862",
   "metadata": {
    "ExecuteTime": {
     "end_time": "2023-05-30T01:01:31.141381Z",
     "start_time": "2023-05-30T01:01:31.121397Z"
    }
   },
   "outputs": [
    {
     "data": {
      "text/plain": [
       "['5', '4', '4', '2', '1']"
      ]
     },
     "execution_count": 14,
     "metadata": {},
     "output_type": "execute_result"
    }
   ],
   "source": [
    "ans_str"
   ]
  },
  {
   "cell_type": "code",
   "execution_count": 17,
   "id": "9ec243b1",
   "metadata": {
    "ExecuteTime": {
     "end_time": "2023-05-30T01:03:42.981799Z",
     "start_time": "2023-05-30T01:03:42.967808Z"
    }
   },
   "outputs": [],
   "source": [
    "ans_int = int(''.join(ans_str))"
   ]
  },
  {
   "cell_type": "code",
   "execution_count": 20,
   "id": "7eeaac00",
   "metadata": {
    "ExecuteTime": {
     "end_time": "2023-05-30T01:07:31.540287Z",
     "start_time": "2023-05-30T01:07:31.526296Z"
    }
   },
   "outputs": [
    {
     "data": {
      "text/plain": [
       "54124"
      ]
     },
     "execution_count": 20,
     "metadata": {},
     "output_type": "execute_result"
    }
   ],
   "source": [
    "int(str(num)[::-1])"
   ]
  },
  {
   "cell_type": "code",
   "execution_count": null,
   "id": "3ffd595a",
   "metadata": {},
   "outputs": [],
   "source": []
  }
 ],
 "metadata": {
  "hide_input": false,
  "kernelspec": {
   "display_name": "Python 3",
   "language": "python",
   "name": "python3"
  },
  "language_info": {
   "codemirror_mode": {
    "name": "ipython",
    "version": 3
   },
   "file_extension": ".py",
   "mimetype": "text/x-python",
   "name": "python",
   "nbconvert_exporter": "python",
   "pygments_lexer": "ipython3",
   "version": "3.8.8"
  },
  "latex_envs": {
   "LaTeX_envs_menu_present": true,
   "autoclose": false,
   "autocomplete": true,
   "bibliofile": "biblio.bib",
   "cite_by": "apalike",
   "current_citInitial": 1,
   "eqLabelWithNumbers": true,
   "eqNumInitial": 1,
   "hotkeys": {
    "equation": "Ctrl-E",
    "itemize": "Ctrl-I"
   },
   "labels_anchors": false,
   "latex_user_defs": false,
   "report_style_numbering": false,
   "user_envs_cfg": false
  },
  "nbTranslate": {
   "displayLangs": [
    "*"
   ],
   "hotkey": "alt-t",
   "langInMainMenu": true,
   "sourceLang": "en",
   "targetLang": "fr",
   "useGoogleTranslate": true
  },
  "toc": {
   "base_numbering": 1,
   "nav_menu": {},
   "number_sections": true,
   "sideBar": true,
   "skip_h1_title": false,
   "title_cell": "Table of Contents",
   "title_sidebar": "Contents",
   "toc_cell": false,
   "toc_position": {},
   "toc_section_display": true,
   "toc_window_display": false
  },
  "varInspector": {
   "cols": {
    "lenName": 16,
    "lenType": 16,
    "lenVar": 40
   },
   "kernels_config": {
    "python": {
     "delete_cmd_postfix": "",
     "delete_cmd_prefix": "del ",
     "library": "var_list.py",
     "varRefreshCmd": "print(var_dic_list())"
    },
    "r": {
     "delete_cmd_postfix": ") ",
     "delete_cmd_prefix": "rm(",
     "library": "var_list.r",
     "varRefreshCmd": "cat(var_dic_list()) "
    }
   },
   "types_to_exclude": [
    "module",
    "function",
    "builtin_function_or_method",
    "instance",
    "_Feature"
   ],
   "window_display": false
  }
 },
 "nbformat": 4,
 "nbformat_minor": 5
}
