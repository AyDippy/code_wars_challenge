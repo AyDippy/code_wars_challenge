{
 "cells": [
  {
   "cell_type": "code",
   "execution_count": 1,
   "id": "9dd09f86",
   "metadata": {
    "ExecuteTime": {
     "end_time": "2023-05-30T01:12:10.984242Z",
     "start_time": "2023-05-30T01:12:10.972244Z"
    }
   },
   "outputs": [],
   "source": [
    "# You get an array of numbers, return the sum of all of the positives ones.\n",
    "\n",
    "# Example [1,-4,7,12] => 1 + 7 + 12 = 20\n",
    "\n",
    "# Note: if there is nothing to sum, the sum is default to 0."
   ]
  },
  {
   "cell_type": "code",
   "execution_count": 20,
   "id": "0b30af44",
   "metadata": {
    "ExecuteTime": {
     "end_time": "2023-05-30T01:27:31.757060Z",
     "start_time": "2023-05-30T01:27:31.739071Z"
    }
   },
   "outputs": [
    {
     "data": {
      "text/plain": [
       "12"
      ]
     },
     "execution_count": 20,
     "metadata": {},
     "output_type": "execute_result"
    }
   ],
   "source": [
    "def positive_sum(arr):\n",
    "    ans = [str(num) for num in arr if num > 0 ]\n",
    "    ans_int= [int(i) for i in ans]\n",
    "    if len(ans_int) > 0:\n",
    "        return sum(ans_int)\n",
    "    else:\n",
    "        return 0\n",
    "positive_sum([3,4,5,-7])"
   ]
  },
  {
   "cell_type": "code",
   "execution_count": 22,
   "id": "a14939f8",
   "metadata": {
    "ExecuteTime": {
     "end_time": "2023-05-30T01:28:49.412527Z",
     "start_time": "2023-05-30T01:28:49.388541Z"
    }
   },
   "outputs": [
    {
     "data": {
      "text/plain": [
       "6"
      ]
     },
     "execution_count": 22,
     "metadata": {},
     "output_type": "execute_result"
    }
   ],
   "source": [
    "def positive_sum(arr):\n",
    "    return sum(x for x in arr if x > 0)\n",
    "\n",
    "positive_sum([1,2,3,-34])"
   ]
  },
  {
   "cell_type": "code",
   "execution_count": null,
   "id": "fddd674e",
   "metadata": {},
   "outputs": [],
   "source": []
  }
 ],
 "metadata": {
  "hide_input": false,
  "kernelspec": {
   "display_name": "Python 3",
   "language": "python",
   "name": "python3"
  },
  "language_info": {
   "codemirror_mode": {
    "name": "ipython",
    "version": 3
   },
   "file_extension": ".py",
   "mimetype": "text/x-python",
   "name": "python",
   "nbconvert_exporter": "python",
   "pygments_lexer": "ipython3",
   "version": "3.8.8"
  },
  "latex_envs": {
   "LaTeX_envs_menu_present": true,
   "autoclose": false,
   "autocomplete": true,
   "bibliofile": "biblio.bib",
   "cite_by": "apalike",
   "current_citInitial": 1,
   "eqLabelWithNumbers": true,
   "eqNumInitial": 1,
   "hotkeys": {
    "equation": "Ctrl-E",
    "itemize": "Ctrl-I"
   },
   "labels_anchors": false,
   "latex_user_defs": false,
   "report_style_numbering": false,
   "user_envs_cfg": false
  },
  "nbTranslate": {
   "displayLangs": [
    "*"
   ],
   "hotkey": "alt-t",
   "langInMainMenu": true,
   "sourceLang": "en",
   "targetLang": "fr",
   "useGoogleTranslate": true
  },
  "toc": {
   "base_numbering": 1,
   "nav_menu": {},
   "number_sections": true,
   "sideBar": true,
   "skip_h1_title": false,
   "title_cell": "Table of Contents",
   "title_sidebar": "Contents",
   "toc_cell": false,
   "toc_position": {},
   "toc_section_display": true,
   "toc_window_display": false
  },
  "varInspector": {
   "cols": {
    "lenName": 16,
    "lenType": 16,
    "lenVar": 40
   },
   "kernels_config": {
    "python": {
     "delete_cmd_postfix": "",
     "delete_cmd_prefix": "del ",
     "library": "var_list.py",
     "varRefreshCmd": "print(var_dic_list())"
    },
    "r": {
     "delete_cmd_postfix": ") ",
     "delete_cmd_prefix": "rm(",
     "library": "var_list.r",
     "varRefreshCmd": "cat(var_dic_list()) "
    }
   },
   "types_to_exclude": [
    "module",
    "function",
    "builtin_function_or_method",
    "instance",
    "_Feature"
   ],
   "window_display": false
  }
 },
 "nbformat": 4,
 "nbformat_minor": 5
}
