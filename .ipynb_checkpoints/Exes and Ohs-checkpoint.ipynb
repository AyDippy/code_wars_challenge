{
 "cells": [
  {
   "cell_type": "code",
   "execution_count": 1,
   "id": "f4853aca",
   "metadata": {
    "ExecuteTime": {
     "end_time": "2023-05-26T23:05:23.943099Z",
     "start_time": "2023-05-26T23:05:23.914109Z"
    }
   },
   "outputs": [
    {
     "data": {
      "text/plain": [
       "'XO(\"ooxx\") => true\\nXO(\"xooxx\") => false\\nXO(\"ooxXm\") => true\\nXO(\"zpzpzpp\") => true // when no \\'x\\' and \\'o\\' is present should return true\\nXO(\"zzoo\") => false'"
      ]
     },
     "execution_count": 1,
     "metadata": {},
     "output_type": "execute_result"
    }
   ],
   "source": [
    "#Check to see if a string has the same amount of 'x's and 'o's. The method must return a boolean and be case insensitive. The string can contain any char.\n",
    "\n",
    "'''XO(\"ooxx\") => true\n",
    "XO(\"xooxx\") => false\n",
    "XO(\"ooxXm\") => true\n",
    "XO(\"zpzpzpp\") => true // when no 'x' and 'o' is present should return true\n",
    "XO(\"zzoo\") => false'''"
   ]
  },
  {
   "cell_type": "code",
   "execution_count": 11,
   "id": "0e1833c9",
   "metadata": {
    "ExecuteTime": {
     "end_time": "2023-05-26T23:18:36.209842Z",
     "start_time": "2023-05-26T23:18:36.179859Z"
    }
   },
   "outputs": [
    {
     "data": {
      "text/plain": [
       "False"
      ]
     },
     "execution_count": 11,
     "metadata": {},
     "output_type": "execute_result"
    }
   ],
   "source": [
    "def XO(s):\n",
    "    s_lst = list(s)\n",
    "    o = ['o', 'O']\n",
    "    x = ['x', 'X']\n",
    "    get_o = [i for i in s_lst if i in o]\n",
    "    get_x = [j for j in s_lst if j in x]\n",
    "    if len(get_o) == len(get_x):\n",
    "        return True\n",
    "    elif len(get_o) == 0 and len(get_x) == 0:\n",
    "        return True\n",
    "    elif len(get_o) or len(get_x) == 0:\n",
    "        return False\n",
    "    else:\n",
    "        return False\n",
    "XO('xoo')\n",
    "    "
   ]
  },
  {
   "cell_type": "code",
   "execution_count": 4,
   "id": "9c5cac32",
   "metadata": {
    "ExecuteTime": {
     "end_time": "2023-05-26T23:10:42.311524Z",
     "start_time": "2023-05-26T23:10:42.291536Z"
    }
   },
   "outputs": [
    {
     "data": {
      "text/plain": [
       "['x', 'x']"
      ]
     },
     "execution_count": 4,
     "metadata": {},
     "output_type": "execute_result"
    }
   ],
   "source": []
  },
  {
   "cell_type": "code",
   "execution_count": null,
   "id": "fba052b6",
   "metadata": {},
   "outputs": [],
   "source": []
  }
 ],
 "metadata": {
  "hide_input": false,
  "kernelspec": {
   "display_name": "Python 3",
   "language": "python",
   "name": "python3"
  },
  "language_info": {
   "codemirror_mode": {
    "name": "ipython",
    "version": 3
   },
   "file_extension": ".py",
   "mimetype": "text/x-python",
   "name": "python",
   "nbconvert_exporter": "python",
   "pygments_lexer": "ipython3",
   "version": "3.8.8"
  },
  "latex_envs": {
   "LaTeX_envs_menu_present": true,
   "autoclose": false,
   "autocomplete": true,
   "bibliofile": "biblio.bib",
   "cite_by": "apalike",
   "current_citInitial": 1,
   "eqLabelWithNumbers": true,
   "eqNumInitial": 1,
   "hotkeys": {
    "equation": "Ctrl-E",
    "itemize": "Ctrl-I"
   },
   "labels_anchors": false,
   "latex_user_defs": false,
   "report_style_numbering": false,
   "user_envs_cfg": false
  },
  "nbTranslate": {
   "displayLangs": [
    "*"
   ],
   "hotkey": "alt-t",
   "langInMainMenu": true,
   "sourceLang": "en",
   "targetLang": "fr",
   "useGoogleTranslate": true
  },
  "toc": {
   "base_numbering": 1,
   "nav_menu": {},
   "number_sections": true,
   "sideBar": true,
   "skip_h1_title": false,
   "title_cell": "Table of Contents",
   "title_sidebar": "Contents",
   "toc_cell": false,
   "toc_position": {},
   "toc_section_display": true,
   "toc_window_display": false
  },
  "varInspector": {
   "cols": {
    "lenName": 16,
    "lenType": 16,
    "lenVar": 40
   },
   "kernels_config": {
    "python": {
     "delete_cmd_postfix": "",
     "delete_cmd_prefix": "del ",
     "library": "var_list.py",
     "varRefreshCmd": "print(var_dic_list())"
    },
    "r": {
     "delete_cmd_postfix": ") ",
     "delete_cmd_prefix": "rm(",
     "library": "var_list.r",
     "varRefreshCmd": "cat(var_dic_list()) "
    }
   },
   "types_to_exclude": [
    "module",
    "function",
    "builtin_function_or_method",
    "instance",
    "_Feature"
   ],
   "window_display": false
  }
 },
 "nbformat": 4,
 "nbformat_minor": 5
}
