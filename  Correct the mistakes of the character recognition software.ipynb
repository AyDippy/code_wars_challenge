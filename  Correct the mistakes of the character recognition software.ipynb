{
 "cells": [
  {
   "cell_type": "code",
   "execution_count": 1,
   "id": "fb4fe897",
   "metadata": {},
   "outputs": [],
   "source": [
    "# Character recognition software is widely used to digitise printed texts. Thus the texts can be edited, searched and stored on a computer.\n",
    "\n",
    "# When documents (especially pretty old ones written with a typewriter), are digitised character recognition softwares often make mistakes.\n",
    "\n",
    "# Your task is correct the errors in the digitised text. You only have to handle the following mistakes:\n",
    "\n",
    "# S is misinterpreted as 5\n",
    "# O is misinterpreted as 0\n",
    "# I is misinterpreted as 1\n",
    "# The test cases contain numbers only by mistake.\n",
    "\n"
   ]
  },
  {
   "cell_type": "code",
   "execution_count": 54,
   "id": "25784540",
   "metadata": {},
   "outputs": [],
   "source": [
    "def correct(s):\n",
    "    correct = {'1':'I', '5':'S', '0':'O'}\n",
    "    for i in s:\n",
    "        if i in list(correct.keys()):\n",
    "            s = s.replace(i, correct[i])\n",
    "    return s\n",
    "       "
   ]
  },
  {
   "cell_type": "code",
   "execution_count": 58,
   "id": "7a033da9",
   "metadata": {},
   "outputs": [
    {
     "data": {
      "text/plain": [
       "'gOat'"
      ]
     },
     "execution_count": 58,
     "metadata": {},
     "output_type": "execute_result"
    }
   ],
   "source": [
    "correct('g0at')"
   ]
  },
  {
   "cell_type": "code",
   "execution_count": null,
   "id": "8d15fea7",
   "metadata": {},
   "outputs": [],
   "source": []
  }
 ],
 "metadata": {
  "kernelspec": {
   "display_name": "Python 3 (ipykernel)",
   "language": "python",
   "name": "python3"
  },
  "language_info": {
   "codemirror_mode": {
    "name": "ipython",
    "version": 3
   },
   "file_extension": ".py",
   "mimetype": "text/x-python",
   "name": "python",
   "nbconvert_exporter": "python",
   "pygments_lexer": "ipython3",
   "version": "3.10.9"
  }
 },
 "nbformat": 4,
 "nbformat_minor": 5
}
