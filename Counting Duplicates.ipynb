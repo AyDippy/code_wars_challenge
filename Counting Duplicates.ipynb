{
 "cells": [
  {
   "cell_type": "code",
   "execution_count": 1,
   "id": "e35fdbb1",
   "metadata": {
    "ExecuteTime": {
     "end_time": "2023-05-31T02:27:30.929933Z",
     "start_time": "2023-05-31T02:27:30.903948Z"
    }
   },
   "outputs": [],
   "source": [
    "#Write a function that will return the count of distinct case-insensitive alphabetic characters and numeric digits that occur more than once in the input string. The input string can be assumed to contain only alphabets (both uppercase and lowercase) and numeric digits.\n",
    "\n",
    "# Example\n",
    "# \"abcde\" -> 0 # no characters repeats more than once\n",
    "# \"aabbcde\" -> 2 # 'a' and 'b'\n",
    "# \"aabBcde\" -> 2 # 'a' occurs twice and 'b' twice (`b` and `B`)\n",
    "# \"indivisibility\" -> 1 # 'i' occurs six times\n",
    "# \"Indivisibilities\" -> 2 # 'i' occurs seven times and 's' occurs twice\n",
    "# \"aA11\" -> 2 # 'a' and '1'\n",
    "# \"ABBA\" -> 2 # 'A' and 'B' each occur twice\n"
   ]
  },
  {
   "cell_type": "code",
   "execution_count": 29,
   "id": "a843c565",
   "metadata": {
    "ExecuteTime": {
     "end_time": "2023-05-31T02:46:14.137899Z",
     "start_time": "2023-05-31T02:46:14.124904Z"
    }
   },
   "outputs": [],
   "source": [
    "def duplicate_count(text):\n",
    "    text_lst = list(text.lower())\n",
    "    text_lst.sort()\n",
    "    ans = [letter for letter in text_lst if text_lst.count(letter) > 1]\n",
    "    return len(set(ans))"
   ]
  },
  {
   "cell_type": "code",
   "execution_count": 30,
   "id": "fe4585ec",
   "metadata": {
    "ExecuteTime": {
     "end_time": "2023-05-31T02:46:49.553201Z",
     "start_time": "2023-05-31T02:46:49.529208Z"
    }
   },
   "outputs": [
    {
     "data": {
      "text/plain": [
       "2"
      ]
     },
     "execution_count": 30,
     "metadata": {},
     "output_type": "execute_result"
    }
   ],
   "source": [
    "duplicate_count(\"Indivisibilities\")"
   ]
  },
  {
   "cell_type": "code",
   "execution_count": null,
   "id": "48a66733",
   "metadata": {},
   "outputs": [],
   "source": []
  }
 ],
 "metadata": {
  "hide_input": false,
  "kernelspec": {
   "display_name": "Python 3",
   "language": "python",
   "name": "python3"
  },
  "language_info": {
   "codemirror_mode": {
    "name": "ipython",
    "version": 3
   },
   "file_extension": ".py",
   "mimetype": "text/x-python",
   "name": "python",
   "nbconvert_exporter": "python",
   "pygments_lexer": "ipython3",
   "version": "3.8.8"
  },
  "latex_envs": {
   "LaTeX_envs_menu_present": true,
   "autoclose": false,
   "autocomplete": true,
   "bibliofile": "biblio.bib",
   "cite_by": "apalike",
   "current_citInitial": 1,
   "eqLabelWithNumbers": true,
   "eqNumInitial": 1,
   "hotkeys": {
    "equation": "Ctrl-E",
    "itemize": "Ctrl-I"
   },
   "labels_anchors": false,
   "latex_user_defs": false,
   "report_style_numbering": false,
   "user_envs_cfg": false
  },
  "nbTranslate": {
   "displayLangs": [
    "*"
   ],
   "hotkey": "alt-t",
   "langInMainMenu": true,
   "sourceLang": "en",
   "targetLang": "fr",
   "useGoogleTranslate": true
  },
  "toc": {
   "base_numbering": 1,
   "nav_menu": {},
   "number_sections": true,
   "sideBar": true,
   "skip_h1_title": false,
   "title_cell": "Table of Contents",
   "title_sidebar": "Contents",
   "toc_cell": false,
   "toc_position": {},
   "toc_section_display": true,
   "toc_window_display": false
  },
  "varInspector": {
   "cols": {
    "lenName": 16,
    "lenType": 16,
    "lenVar": 40
   },
   "kernels_config": {
    "python": {
     "delete_cmd_postfix": "",
     "delete_cmd_prefix": "del ",
     "library": "var_list.py",
     "varRefreshCmd": "print(var_dic_list())"
    },
    "r": {
     "delete_cmd_postfix": ") ",
     "delete_cmd_prefix": "rm(",
     "library": "var_list.r",
     "varRefreshCmd": "cat(var_dic_list()) "
    }
   },
   "types_to_exclude": [
    "module",
    "function",
    "builtin_function_or_method",
    "instance",
    "_Feature"
   ],
   "window_display": false
  }
 },
 "nbformat": 4,
 "nbformat_minor": 5
}
