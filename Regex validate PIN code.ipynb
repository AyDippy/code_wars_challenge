{
 "cells": [
  {
   "cell_type": "code",
   "execution_count": 1,
   "id": "99bac4c1",
   "metadata": {
    "ExecuteTime": {
     "end_time": "2023-05-17T06:09:26.284582Z",
     "start_time": "2023-05-17T06:09:26.257599Z"
    }
   },
   "outputs": [],
   "source": [
    "#ATM machines allow 4 or 6 digit PIN codes and PIN codes cannot contain anything but exactly 4 digits or exactly 6 digits."
   ]
  },
  {
   "cell_type": "code",
   "execution_count": 6,
   "id": "05ffcf65",
   "metadata": {
    "ExecuteTime": {
     "end_time": "2023-05-17T06:09:48.878066Z",
     "start_time": "2023-05-17T06:09:48.849100Z"
    },
    "run_control": {
     "marked": false
    }
   },
   "outputs": [
    {
     "name": "stdout",
     "output_type": "stream",
     "text": [
      "True\n"
     ]
    }
   ],
   "source": [
    "pin = '1345'\n",
    "alpha =list('abcdefghijklmnopqrstuvwxyz')\n",
    "digit = list('1234567890')\n",
    "pin_lst = list(pin)\n",
    "new = [letters for letters in pin_lst if letters in alpha not in digit]\n",
    "if len(pin) == 4 and len(new) == 0:\n",
    "    print(True)\n",
    "elif len(pin) == 6 and len(new) == 0:\n",
    "    print(True)\n",
    "elif len(new) > 0:\n",
    "    print(False)\n",
    "else:\n",
    "    print(False)\n",
    " "
   ]
  },
  {
   "cell_type": "code",
   "execution_count": 3,
   "id": "3753cd4a",
   "metadata": {
    "ExecuteTime": {
     "end_time": "2023-05-17T06:09:26.867249Z",
     "start_time": "2023-05-17T06:09:26.608398Z"
    }
   },
   "outputs": [],
   "source": [
    "def validate_pin(pin):\n",
    "    if len(pin) == 4 or len(pin) == 6:\n",
    "        if pin.isdigit():\n",
    "            return True\n",
    "    return False"
   ]
  },
  {
   "cell_type": "code",
   "execution_count": 4,
   "id": "95c36d2a",
   "metadata": {
    "ExecuteTime": {
     "end_time": "2023-05-17T06:09:27.105113Z",
     "start_time": "2023-05-17T06:09:26.883241Z"
    }
   },
   "outputs": [
    {
     "data": {
      "text/plain": [
       "False"
      ]
     },
     "execution_count": 4,
     "metadata": {},
     "output_type": "execute_result"
    }
   ],
   "source": [
    "validate_pin('0988900')"
   ]
  },
  {
   "cell_type": "code",
   "execution_count": null,
   "id": "a15df09b",
   "metadata": {
    "ExecuteTime": {
     "end_time": "2023-05-17T06:06:07.977947Z",
     "start_time": "2023-05-17T06:06:07.958963Z"
    }
   },
   "outputs": [],
   "source": []
  },
  {
   "cell_type": "code",
   "execution_count": null,
   "id": "cfba5a84",
   "metadata": {
    "ExecuteTime": {
     "end_time": "2023-05-17T06:06:45.708739Z",
     "start_time": "2023-05-17T06:06:45.686773Z"
    }
   },
   "outputs": [],
   "source": []
  },
  {
   "cell_type": "code",
   "execution_count": null,
   "id": "d28462a8",
   "metadata": {},
   "outputs": [],
   "source": []
  }
 ],
 "metadata": {
  "hide_input": false,
  "kernelspec": {
   "display_name": "Python 3",
   "language": "python",
   "name": "python3"
  },
  "language_info": {
   "codemirror_mode": {
    "name": "ipython",
    "version": 3
   },
   "file_extension": ".py",
   "mimetype": "text/x-python",
   "name": "python",
   "nbconvert_exporter": "python",
   "pygments_lexer": "ipython3",
   "version": "3.8.8"
  },
  "latex_envs": {
   "LaTeX_envs_menu_present": true,
   "autoclose": false,
   "autocomplete": true,
   "bibliofile": "biblio.bib",
   "cite_by": "apalike",
   "current_citInitial": 1,
   "eqLabelWithNumbers": true,
   "eqNumInitial": 1,
   "hotkeys": {
    "equation": "Ctrl-E",
    "itemize": "Ctrl-I"
   },
   "labels_anchors": false,
   "latex_user_defs": false,
   "report_style_numbering": false,
   "user_envs_cfg": false
  },
  "nbTranslate": {
   "displayLangs": [
    "*"
   ],
   "hotkey": "alt-t",
   "langInMainMenu": true,
   "sourceLang": "en",
   "targetLang": "fr",
   "useGoogleTranslate": true
  },
  "toc": {
   "base_numbering": 1,
   "nav_menu": {},
   "number_sections": true,
   "sideBar": true,
   "skip_h1_title": false,
   "title_cell": "Table of Contents",
   "title_sidebar": "Contents",
   "toc_cell": false,
   "toc_position": {},
   "toc_section_display": true,
   "toc_window_display": false
  },
  "varInspector": {
   "cols": {
    "lenName": 16,
    "lenType": 16,
    "lenVar": 40
   },
   "kernels_config": {
    "python": {
     "delete_cmd_postfix": "",
     "delete_cmd_prefix": "del ",
     "library": "var_list.py",
     "varRefreshCmd": "print(var_dic_list())"
    },
    "r": {
     "delete_cmd_postfix": ") ",
     "delete_cmd_prefix": "rm(",
     "library": "var_list.r",
     "varRefreshCmd": "cat(var_dic_list()) "
    }
   },
   "types_to_exclude": [
    "module",
    "function",
    "builtin_function_or_method",
    "instance",
    "_Feature"
   ],
   "window_display": false
  }
 },
 "nbformat": 4,
 "nbformat_minor": 5
}
