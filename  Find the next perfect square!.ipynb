{
 "cells": [
  {
   "cell_type": "code",
   "execution_count": 1,
   "id": "f4b15913",
   "metadata": {},
   "outputs": [],
   "source": [
    "# You might know some pretty large perfect squares. But what about the NEXT one?\n",
    "\n",
    "# Complete the findNextSquare method that finds the next integral perfect square after the one passed as a parameter. Recall that an integral perfect square is an integer n such that sqrt(n) is also an integer.\n",
    "\n",
    "# If the parameter is itself not a perfect square then -1 should be returned. You may assume the parameter is non-negative.\n",
    "\n",
    "# Examples:(Input --> Output)\n",
    "\n",
    "# 121 --> 144\n",
    "# 625 --> 676\n",
    "# 114 --> -1 since 114 is not a perfect square"
   ]
  },
  {
   "cell_type": "code",
   "execution_count": 89,
   "id": "e3810328",
   "metadata": {},
   "outputs": [],
   "source": [
    "import math\n",
    "def find_next_square(sq):\n",
    "    if sq == 0:\n",
    "        return 1\n",
    "    elif sq % math.sqrt(sq) == 0:\n",
    "        i = 1\n",
    "        ans = 0\n",
    "        while i <= sq+2:\n",
    "            ans = sq + i\n",
    "            i += 1\n",
    "            if ans % math.sqrt(ans) == 0:\n",
    "                break\n",
    "        return ans\n",
    "    else:\n",
    "        return -1"
   ]
  },
  {
   "cell_type": "code",
   "execution_count": 96,
   "id": "874e271f",
   "metadata": {},
   "outputs": [
    {
     "data": {
      "text/plain": [
       "441"
      ]
     },
     "execution_count": 96,
     "metadata": {},
     "output_type": "execute_result"
    }
   ],
   "source": [
    "find_next_square(400)"
   ]
  }
 ],
 "metadata": {
  "kernelspec": {
   "display_name": "Python 3 (ipykernel)",
   "language": "python",
   "name": "python3"
  },
  "language_info": {
   "codemirror_mode": {
    "name": "ipython",
    "version": 3
   },
   "file_extension": ".py",
   "mimetype": "text/x-python",
   "name": "python",
   "nbconvert_exporter": "python",
   "pygments_lexer": "ipython3",
   "version": "3.10.9"
  }
 },
 "nbformat": 4,
 "nbformat_minor": 5
}
