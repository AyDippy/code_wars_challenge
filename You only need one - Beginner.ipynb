{
 "cells": [
  {
   "cell_type": "code",
   "execution_count": 1,
   "id": "f2d50fea",
   "metadata": {},
   "outputs": [],
   "source": [
    "# You will be given an array a and a value x. All you need to do is check whether the provided array contains the value.\n",
    "\n",
    "# Array can contain numbers or strings. X can be either.\n",
    "\n",
    "# Return true if the array contains the value, false if not."
   ]
  },
  {
   "cell_type": "code",
   "execution_count": 2,
   "id": "cb305f2e",
   "metadata": {},
   "outputs": [],
   "source": [
    "def check(seq, elem):\n",
    "    if elem in seq:\n",
    "        return True\n",
    "    else:\n",
    "        return False"
   ]
  },
  {
   "cell_type": "code",
   "execution_count": 4,
   "id": "5d8b36dc",
   "metadata": {},
   "outputs": [
    {
     "data": {
      "text/plain": [
       "True"
      ]
     },
     "execution_count": 4,
     "metadata": {},
     "output_type": "execute_result"
    }
   ],
   "source": [
    "check(['nunez', 'diaz', 'gakpo'], 'nunez')"
   ]
  },
  {
   "cell_type": "code",
   "execution_count": null,
   "id": "e0fe6c7a",
   "metadata": {},
   "outputs": [],
   "source": []
  }
 ],
 "metadata": {
  "kernelspec": {
   "display_name": "Python 3 (ipykernel)",
   "language": "python",
   "name": "python3"
  },
  "language_info": {
   "codemirror_mode": {
    "name": "ipython",
    "version": 3
   },
   "file_extension": ".py",
   "mimetype": "text/x-python",
   "name": "python",
   "nbconvert_exporter": "python",
   "pygments_lexer": "ipython3",
   "version": "3.10.9"
  }
 },
 "nbformat": 4,
 "nbformat_minor": 5
}
