{
 "cells": [
  {
   "cell_type": "code",
   "execution_count": 1,
   "id": "35808aa9",
   "metadata": {},
   "outputs": [],
   "source": [
    "# You ask a small girl,\"How old are you?\" She always says, \"x years old\", where x is a random number between 0 and 9.\n",
    "\n",
    "# Write a program that returns the girl's age (0-9) as an integer.\n",
    "\n",
    "# Assume the test input string is always a valid string. For example, the test input may be \"1 year old\" or \"5 years old\". The first character in the string is always a number."
   ]
  },
  {
   "cell_type": "code",
   "execution_count": 11,
   "id": "50547ad8",
   "metadata": {},
   "outputs": [],
   "source": [
    "def get_age(age):\n",
    "    num = ['0','1','2','3','4','5','6','7','8','9']\n",
    "    ans = [i for i in age if i in num]\n",
    "    return int(ans[0])"
   ]
  },
  {
   "cell_type": "code",
   "execution_count": 12,
   "id": "50ce40fd",
   "metadata": {},
   "outputs": [
    {
     "data": {
      "text/plain": [
       "5"
      ]
     },
     "execution_count": 12,
     "metadata": {},
     "output_type": "execute_result"
    }
   ],
   "source": [
    "get_age('5 years old')"
   ]
  },
  {
   "cell_type": "code",
   "execution_count": null,
   "id": "0e763e01",
   "metadata": {},
   "outputs": [],
   "source": []
  }
 ],
 "metadata": {
  "kernelspec": {
   "display_name": "Python 3 (ipykernel)",
   "language": "python",
   "name": "python3"
  },
  "language_info": {
   "codemirror_mode": {
    "name": "ipython",
    "version": 3
   },
   "file_extension": ".py",
   "mimetype": "text/x-python",
   "name": "python",
   "nbconvert_exporter": "python",
   "pygments_lexer": "ipython3",
   "version": "3.10.9"
  }
 },
 "nbformat": 4,
 "nbformat_minor": 5
}
