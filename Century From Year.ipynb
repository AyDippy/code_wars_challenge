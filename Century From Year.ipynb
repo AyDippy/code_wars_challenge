{
 "cells": [
  {
   "cell_type": "code",
   "execution_count": 21,
   "id": "46ca24a9",
   "metadata": {
    "ExecuteTime": {
     "end_time": "2023-05-21T19:08:52.337399Z",
     "start_time": "2023-05-21T19:08:52.325406Z"
    },
    "run_control": {
     "marked": false
    }
   },
   "outputs": [],
   "source": [
    "#The first century spans from the year 1 up to and including the year 100, the second century - from the year 101 up to and including the year 200, etc.\n",
    "\n",
    "#Task\n",
    "#Given a year, return the century it is in."
   ]
  },
  {
   "cell_type": "code",
   "execution_count": 22,
   "id": "daf7cde0",
   "metadata": {
    "ExecuteTime": {
     "end_time": "2023-05-21T19:08:52.755952Z",
     "start_time": "2023-05-21T19:08:52.737962Z"
    }
   },
   "outputs": [],
   "source": [
    "def century(year):\n",
    "    if year % 100 == 0:\n",
    "        return year // 100\n",
    "    else:\n",
    "        return (year // 100) + 1"
   ]
  },
  {
   "cell_type": "code",
   "execution_count": 23,
   "id": "b0549e5c",
   "metadata": {
    "ExecuteTime": {
     "end_time": "2023-05-21T19:08:53.174590Z",
     "start_time": "2023-05-21T19:08:53.159602Z"
    }
   },
   "outputs": [
    {
     "data": {
      "text/plain": [
       "21"
      ]
     },
     "execution_count": 23,
     "metadata": {},
     "output_type": "execute_result"
    }
   ],
   "source": [
    "century(2001)"
   ]
  },
  {
   "cell_type": "code",
   "execution_count": null,
   "id": "630d9959",
   "metadata": {
    "ExecuteTime": {
     "end_time": "2023-05-21T19:02:41.501484Z",
     "start_time": "2023-05-21T19:02:41.484487Z"
    }
   },
   "outputs": [],
   "source": []
  },
  {
   "cell_type": "code",
   "execution_count": null,
   "id": "0de5a5bd",
   "metadata": {},
   "outputs": [],
   "source": []
  }
 ],
 "metadata": {
  "hide_input": false,
  "kernelspec": {
   "display_name": "Python 3",
   "language": "python",
   "name": "python3"
  },
  "language_info": {
   "codemirror_mode": {
    "name": "ipython",
    "version": 3
   },
   "file_extension": ".py",
   "mimetype": "text/x-python",
   "name": "python",
   "nbconvert_exporter": "python",
   "pygments_lexer": "ipython3",
   "version": "3.8.8"
  },
  "latex_envs": {
   "LaTeX_envs_menu_present": true,
   "autoclose": false,
   "autocomplete": true,
   "bibliofile": "biblio.bib",
   "cite_by": "apalike",
   "current_citInitial": 1,
   "eqLabelWithNumbers": true,
   "eqNumInitial": 1,
   "hotkeys": {
    "equation": "Ctrl-E",
    "itemize": "Ctrl-I"
   },
   "labels_anchors": false,
   "latex_user_defs": false,
   "report_style_numbering": false,
   "user_envs_cfg": false
  },
  "nbTranslate": {
   "displayLangs": [
    "*"
   ],
   "hotkey": "alt-t",
   "langInMainMenu": true,
   "sourceLang": "en",
   "targetLang": "fr",
   "useGoogleTranslate": true
  },
  "toc": {
   "base_numbering": 1,
   "nav_menu": {},
   "number_sections": true,
   "sideBar": true,
   "skip_h1_title": false,
   "title_cell": "Table of Contents",
   "title_sidebar": "Contents",
   "toc_cell": false,
   "toc_position": {},
   "toc_section_display": true,
   "toc_window_display": false
  },
  "varInspector": {
   "cols": {
    "lenName": 16,
    "lenType": 16,
    "lenVar": 40
   },
   "kernels_config": {
    "python": {
     "delete_cmd_postfix": "",
     "delete_cmd_prefix": "del ",
     "library": "var_list.py",
     "varRefreshCmd": "print(var_dic_list())"
    },
    "r": {
     "delete_cmd_postfix": ") ",
     "delete_cmd_prefix": "rm(",
     "library": "var_list.r",
     "varRefreshCmd": "cat(var_dic_list()) "
    }
   },
   "types_to_exclude": [
    "module",
    "function",
    "builtin_function_or_method",
    "instance",
    "_Feature"
   ],
   "window_display": false
  }
 },
 "nbformat": 4,
 "nbformat_minor": 5
}
