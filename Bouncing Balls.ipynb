{
 "cells": [
  {
   "cell_type": "code",
   "execution_count": 1,
   "id": "da8508a6",
   "metadata": {},
   "outputs": [],
   "source": [
    "# A child is playing with a ball on the nth floor of a tall building. The height of this floor above ground level, h, is known.\n",
    "\n",
    "# He drops the ball out of the window. The ball bounces (for example), to two-thirds of its height (a bounce of 0.66).\n",
    "\n",
    "# His mother looks out of a window 1.5 meters from the ground.\n",
    "\n",
    "# How many times will the mother see the ball pass in front of her window (including when it's falling and bouncing?\n",
    "\n",
    "# Three conditions must be met for a valid experiment:\n",
    "# Float parameter \"h\" in meters must be greater than 0\n",
    "# Float parameter \"bounce\" must be greater than 0 and less than 1\n",
    "# Float parameter \"window\" must be less than h.\n",
    "# If all three conditions above are fulfilled, return a positive integer, otherwise return -1.\n",
    "\n",
    "# Note:\n",
    "# The ball can only be seen if the height of the rebounding ball is strictly greater than the window parameter.\n",
    "\n",
    "# Examples:\n",
    "# - h = 3, bounce = 0.66, window = 1.5, result is 3\n",
    "\n",
    "# - h = 3, bounce = 1, window = 1.5, result is -1 \n",
    "\n",
    "# (Condition 2) not fulfilled)."
   ]
  },
  {
   "cell_type": "code",
   "execution_count": 65,
   "id": "9d8ed819",
   "metadata": {},
   "outputs": [],
   "source": [
    "def bouncing_ball(h, bounce, window):\n",
    "    count = 0\n",
    "    if h >0 and 0< bounce <1 and window < h:\n",
    "        if h > window:\n",
    "            count += 1\n",
    "        while window < h * bounce:\n",
    "            h *= bounce\n",
    "            count += 2\n",
    "        return count\n",
    "    else:\n",
    "        return -1"
   ]
  },
  {
   "cell_type": "code",
   "execution_count": 68,
   "id": "0b475fe9",
   "metadata": {},
   "outputs": [
    {
     "data": {
      "text/plain": [
       "1"
      ]
     },
     "execution_count": 68,
     "metadata": {},
     "output_type": "execute_result"
    }
   ],
   "source": [
    "bouncing_ball(2, 0.5, 1)"
   ]
  },
  {
   "cell_type": "code",
   "execution_count": null,
   "id": "2dbf9bda",
   "metadata": {},
   "outputs": [],
   "source": []
  },
  {
   "cell_type": "code",
   "execution_count": null,
   "id": "228159e9",
   "metadata": {},
   "outputs": [],
   "source": []
  }
 ],
 "metadata": {
  "kernelspec": {
   "display_name": "Python 3 (ipykernel)",
   "language": "python",
   "name": "python3"
  },
  "language_info": {
   "codemirror_mode": {
    "name": "ipython",
    "version": 3
   },
   "file_extension": ".py",
   "mimetype": "text/x-python",
   "name": "python",
   "nbconvert_exporter": "python",
   "pygments_lexer": "ipython3",
   "version": "3.10.9"
  }
 },
 "nbformat": 4,
 "nbformat_minor": 5
}
