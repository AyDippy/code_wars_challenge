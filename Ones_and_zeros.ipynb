{
 "cells": [
  {
   "cell_type": "code",
   "execution_count": 1,
   "id": "bb9c41db",
   "metadata": {
    "ExecuteTime": {
     "end_time": "2023-05-14T19:50:50.631641Z",
     "start_time": "2023-05-14T19:50:50.609654Z"
    }
   },
   "outputs": [],
   "source": [
    "#A Code that converts Binary numbers into their corresponding numbers in base 10"
   ]
  },
  {
   "cell_type": "code",
   "execution_count": 2,
   "id": "23b58f33",
   "metadata": {
    "ExecuteTime": {
     "end_time": "2023-05-14T19:50:51.020417Z",
     "start_time": "2023-05-14T19:50:50.648631Z"
    }
   },
   "outputs": [
    {
     "name": "stdout",
     "output_type": "stream",
     "text": [
      "0\n",
      "0\n",
      "0\n",
      "1\n",
      "2\n",
      "2\n",
      "2\n",
      "4\n",
      "6\n",
      "3\n",
      "0\n",
      "6\n"
     ]
    }
   ],
   "source": [
    "x = [0, 1, 1, 0]\n",
    "z = 0\n",
    "c = x[::-1]\n",
    "for index, data in enumerate(c):\n",
    "    print(index)\n",
    "    y = data * (2 ** index)\n",
    "    print(y)\n",
    "    z += y\n",
    "    print(z)"
   ]
  },
  {
   "cell_type": "code",
   "execution_count": 3,
   "id": "ae077538",
   "metadata": {
    "ExecuteTime": {
     "end_time": "2023-05-14T19:50:51.284267Z",
     "start_time": "2023-05-14T19:50:51.030412Z"
    },
    "code_folding": [
     0
    ]
   },
   "outputs": [
    {
     "data": {
      "text/plain": [
       "6"
      ]
     },
     "execution_count": 3,
     "metadata": {},
     "output_type": "execute_result"
    }
   ],
   "source": [
    "z"
   ]
  },
  {
   "cell_type": "code",
   "execution_count": 4,
   "id": "02dc6bd5",
   "metadata": {
    "ExecuteTime": {
     "end_time": "2023-05-14T19:50:51.452170Z",
     "start_time": "2023-05-14T19:50:51.296261Z"
    }
   },
   "outputs": [],
   "source": [
    "def binary_array_to_number(arr):\n",
    "    c = arr[::-1]\n",
    "    z = 0\n",
    "    for index, data in enumerate(c):\n",
    "        y = data * (2 ** index)\n",
    "        z += y\n",
    "    return z"
   ]
  },
  {
   "cell_type": "code",
   "execution_count": 5,
   "id": "a9b1efeb",
   "metadata": {
    "ExecuteTime": {
     "end_time": "2023-05-14T19:50:51.625071Z",
     "start_time": "2023-05-14T19:50:51.459167Z"
    }
   },
   "outputs": [
    {
     "data": {
      "text/plain": [
       "4"
      ]
     },
     "execution_count": 5,
     "metadata": {},
     "output_type": "execute_result"
    }
   ],
   "source": [
    "binary_array_to_number([1,0,0])"
   ]
  },
  {
   "cell_type": "code",
   "execution_count": 6,
   "id": "2bb4d97f",
   "metadata": {
    "ExecuteTime": {
     "end_time": "2023-05-14T19:50:51.827957Z",
     "start_time": "2023-05-14T19:50:51.640065Z"
    }
   },
   "outputs": [],
   "source": [
    "def binary_array_to_number(arr):\n",
    "    return int(\"\".join(map(str, arr)), 2)"
   ]
  },
  {
   "cell_type": "code",
   "execution_count": null,
   "id": "ec1722e4",
   "metadata": {
    "ExecuteTime": {
     "end_time": "2023-05-14T19:44:33.032641Z",
     "start_time": "2023-05-14T19:44:32.634871Z"
    }
   },
   "outputs": [],
   "source": []
  },
  {
   "cell_type": "code",
   "execution_count": null,
   "id": "e260038d",
   "metadata": {
    "ExecuteTime": {
     "end_time": "2023-05-14T09:19:46.555724Z",
     "start_time": "2023-05-14T09:19:46.536738Z"
    }
   },
   "outputs": [],
   "source": []
  },
  {
   "cell_type": "code",
   "execution_count": 7,
   "id": "e8e824e9",
   "metadata": {
    "ExecuteTime": {
     "end_time": "2023-05-14T19:50:52.015849Z",
     "start_time": "2023-05-14T19:50:51.831952Z"
    }
   },
   "outputs": [
    {
     "ename": "SyntaxError",
     "evalue": "unexpected EOF while parsing (<ipython-input-7-0938bd8906ef>, line 1)",
     "output_type": "error",
     "traceback": [
      "\u001b[1;36m  File \u001b[1;32m\"<ipython-input-7-0938bd8906ef>\"\u001b[1;36m, line \u001b[1;32m1\u001b[0m\n\u001b[1;33m    \\\u001b[0m\n\u001b[1;37m     ^\u001b[0m\n\u001b[1;31mSyntaxError\u001b[0m\u001b[1;31m:\u001b[0m unexpected EOF while parsing\n"
     ]
    }
   ],
   "source": []
  },
  {
   "cell_type": "code",
   "execution_count": null,
   "id": "43ac573d",
   "metadata": {},
   "outputs": [],
   "source": []
  }
 ],
 "metadata": {
  "hide_input": false,
  "kernelspec": {
   "display_name": "Python 3",
   "language": "python",
   "name": "python3"
  },
  "language_info": {
   "codemirror_mode": {
    "name": "ipython",
    "version": 3
   },
   "file_extension": ".py",
   "mimetype": "text/x-python",
   "name": "python",
   "nbconvert_exporter": "python",
   "pygments_lexer": "ipython3",
   "version": "3.8.8"
  },
  "latex_envs": {
   "LaTeX_envs_menu_present": true,
   "autoclose": false,
   "autocomplete": true,
   "bibliofile": "biblio.bib",
   "cite_by": "apalike",
   "current_citInitial": 1,
   "eqLabelWithNumbers": true,
   "eqNumInitial": 1,
   "hotkeys": {
    "equation": "Ctrl-E",
    "itemize": "Ctrl-I"
   },
   "labels_anchors": false,
   "latex_user_defs": false,
   "report_style_numbering": false,
   "user_envs_cfg": false
  },
  "nbTranslate": {
   "displayLangs": [
    "*"
   ],
   "hotkey": "alt-t",
   "langInMainMenu": true,
   "sourceLang": "en",
   "targetLang": "fr",
   "useGoogleTranslate": true
  },
  "toc": {
   "base_numbering": 1,
   "nav_menu": {},
   "number_sections": true,
   "sideBar": true,
   "skip_h1_title": false,
   "title_cell": "Table of Contents",
   "title_sidebar": "Contents",
   "toc_cell": false,
   "toc_position": {},
   "toc_section_display": true,
   "toc_window_display": false
  },
  "varInspector": {
   "cols": {
    "lenName": 16,
    "lenType": 16,
    "lenVar": 40
   },
   "kernels_config": {
    "python": {
     "delete_cmd_postfix": "",
     "delete_cmd_prefix": "del ",
     "library": "var_list.py",
     "varRefreshCmd": "print(var_dic_list())"
    },
    "r": {
     "delete_cmd_postfix": ") ",
     "delete_cmd_prefix": "rm(",
     "library": "var_list.r",
     "varRefreshCmd": "cat(var_dic_list()) "
    }
   },
   "types_to_exclude": [
    "module",
    "function",
    "builtin_function_or_method",
    "instance",
    "_Feature"
   ],
   "window_display": false
  }
 },
 "nbformat": 4,
 "nbformat_minor": 5
}
