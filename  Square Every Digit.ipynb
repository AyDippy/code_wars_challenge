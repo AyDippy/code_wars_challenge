{
 "cells": [
  {
   "cell_type": "code",
   "execution_count": 1,
   "id": "da7aab85",
   "metadata": {},
   "outputs": [],
   "source": [
    "# Welcome. In this kata, you are asked to square every digit of a number and concatenate them.\n",
    "\n",
    "# For example, if we run 9119 through the function, 811181 will come out, because 92 is 81 and 12 is 1. (81-1-1-81)\n",
    "\n",
    "# Example #2: An input of 765 will/should return 493625 because 72 is 49, 62 is 36, and 52 is 25. (49-36-25)\n",
    "\n",
    "# Note: The function accepts an integer and returns an integer.\n",
    "\n",
    "# Happy Coding!"
   ]
  },
  {
   "cell_type": "code",
   "execution_count": 21,
   "id": "f1310c12",
   "metadata": {},
   "outputs": [],
   "source": [
    "def square_digits(num):\n",
    "    num_l  = list(str(num))\n",
    "    num_sqr = [int(num)**2 for num in num_l]\n",
    "    num_sqr_str = [str(j) for j in num_sqr]\n",
    "    ans = ''.join(num_sqr_str)\n",
    "    return int(ans)"
   ]
  },
  {
   "cell_type": "code",
   "execution_count": 22,
   "id": "c447e82f",
   "metadata": {},
   "outputs": [
    {
     "data": {
      "text/plain": [
       "253649"
      ]
     },
     "execution_count": 22,
     "metadata": {},
     "output_type": "execute_result"
    }
   ],
   "source": [
    "square_digits(567)"
   ]
  },
  {
   "cell_type": "code",
   "execution_count": null,
   "id": "1468e16d",
   "metadata": {},
   "outputs": [],
   "source": []
  }
 ],
 "metadata": {
  "kernelspec": {
   "display_name": "Python 3 (ipykernel)",
   "language": "python",
   "name": "python3"
  },
  "language_info": {
   "codemirror_mode": {
    "name": "ipython",
    "version": 3
   },
   "file_extension": ".py",
   "mimetype": "text/x-python",
   "name": "python",
   "nbconvert_exporter": "python",
   "pygments_lexer": "ipython3",
   "version": "3.10.9"
  }
 },
 "nbformat": 4,
 "nbformat_minor": 5
}
