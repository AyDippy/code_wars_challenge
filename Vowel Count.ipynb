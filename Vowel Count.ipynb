{
 "cells": [
  {
   "cell_type": "code",
   "execution_count": 1,
   "id": "c59ee964",
   "metadata": {},
   "outputs": [],
   "source": [
    "# Return the number (count) of vowels in the given string.\n",
    "\n",
    "# We will consider a, e, i, o, u as vowels for this Kata (but not y).\n",
    "\n",
    "# The input string will only consist of lower case letters and/or spaces.\n",
    "\n"
   ]
  },
  {
   "cell_type": "code",
   "execution_count": 7,
   "id": "042e1549",
   "metadata": {},
   "outputs": [],
   "source": [
    "def get_count(sentence):\n",
    "    sen_l = list(sentence)\n",
    "    vowels = ['a', 'e', 'i','o','u']\n",
    "    ans = len([i for i in sen_l if i in vowels])\n",
    "    return ans"
   ]
  },
  {
   "cell_type": "code",
   "execution_count": 8,
   "id": "04a2ed35",
   "metadata": {},
   "outputs": [
    {
     "data": {
      "text/plain": [
       "24"
      ]
     },
     "execution_count": 8,
     "metadata": {},
     "output_type": "execute_result"
    }
   ],
   "source": [
    "get_count('i love akara and goat meat. i will one day be a billionaire')"
   ]
  },
  {
   "cell_type": "code",
   "execution_count": 4,
   "id": "c5829423",
   "metadata": {},
   "outputs": [],
   "source": []
  },
  {
   "cell_type": "code",
   "execution_count": null,
   "id": "c0d57ee7",
   "metadata": {},
   "outputs": [],
   "source": []
  }
 ],
 "metadata": {
  "kernelspec": {
   "display_name": "Python 3 (ipykernel)",
   "language": "python",
   "name": "python3"
  },
  "language_info": {
   "codemirror_mode": {
    "name": "ipython",
    "version": 3
   },
   "file_extension": ".py",
   "mimetype": "text/x-python",
   "name": "python",
   "nbconvert_exporter": "python",
   "pygments_lexer": "ipython3",
   "version": "3.10.9"
  }
 },
 "nbformat": 4,
 "nbformat_minor": 5
}
