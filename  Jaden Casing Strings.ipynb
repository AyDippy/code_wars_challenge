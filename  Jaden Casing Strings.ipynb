{
 "cells": [
  {
   "cell_type": "code",
   "execution_count": 7,
   "id": "138e40cd",
   "metadata": {},
   "outputs": [],
   "source": [
    "# Jaden Smith, the son of Will Smith, is the star of films such as The Karate Kid (2010) and After Earth (2013). Jaden is also known for some of his philosophy that he delivers via Twitter. When writing on Twitter, he is known for almost always capitalizing every word. For simplicity, you'll have to capitalize each word, check out how contractions are expected to be in the example below.\n",
    "\n",
    "# Your task is to convert strings to how they would be written by Jaden Smith. The strings are actual quotes from Jaden Smith, but they are not capitalized in the same way he originally typed them.\n",
    "\n",
    "# Example:\n",
    "\n",
    "# Not Jaden-Cased: \"How can mirrors be real if our eyes aren't real\"\n",
    "# Jaden-Cased:     \"How Can Mirrors Be Real If Our Eyes Aren't Real"
   ]
  },
  {
   "cell_type": "code",
   "execution_count": 69,
   "id": "f90cce83",
   "metadata": {},
   "outputs": [],
   "source": [
    "def to_jaden_case(string):\n",
    "    convert = string.title()\n",
    "    cn = convert.split()\n",
    "    ans3 = []\n",
    "    if \"'\" in string:\n",
    "        for i in cn:\n",
    "            if \"'\" in i:\n",
    "                b = i.split(\"'\")\n",
    "                ans3.append(b[0] + \"'\"+ b[1].replace(b[1][0], b[1][0].lower()))\n",
    "            else:\n",
    "                ans3.append(i)\n",
    "        return ' '.join(ans3)\n",
    "    else:\n",
    "        return string.title()"
   ]
  },
  {
   "cell_type": "code",
   "execution_count": 71,
   "id": "d74c02e0",
   "metadata": {},
   "outputs": [
    {
     "data": {
      "text/plain": [
       "\"Trees Are Never Sad Look At Them Every Once In Awhile They're Quite Beautiful.\""
      ]
     },
     "execution_count": 71,
     "metadata": {},
     "output_type": "execute_result"
    }
   ],
   "source": [
    "to_jaden_case(\"Trees are never sad look at them every once in awhile they're quite beautiful.\")"
   ]
  },
  {
   "cell_type": "code",
   "execution_count": null,
   "id": "ea28aff8",
   "metadata": {},
   "outputs": [],
   "source": []
  }
 ],
 "metadata": {
  "kernelspec": {
   "display_name": "Python 3 (ipykernel)",
   "language": "python",
   "name": "python3"
  },
  "language_info": {
   "codemirror_mode": {
    "name": "ipython",
    "version": 3
   },
   "file_extension": ".py",
   "mimetype": "text/x-python",
   "name": "python",
   "nbconvert_exporter": "python",
   "pygments_lexer": "ipython3",
   "version": "3.10.9"
  }
 },
 "nbformat": 4,
 "nbformat_minor": 5
}
