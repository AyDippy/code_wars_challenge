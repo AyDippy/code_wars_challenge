{
 "cells": [
  {
   "cell_type": "code",
   "execution_count": 1,
   "id": "809ae065",
   "metadata": {},
   "outputs": [],
   "source": [
    "# Count the number of divisors of a positive integer n.\n",
    "\n",
    "# Random tests go up to n = 500000.\n",
    "\n",
    "# Examples (input --> output)\n",
    "# 4 --> 3 // we have 3 divisors - 1, 2 and 4\n",
    "# 5 --> 2 // we have 2 divisors - 1 and 5\n",
    "# 12 --> 6 // we have 6 divisors - 1, 2, 3, 4, 6 and 12\n",
    "# 30 --> 8 // we have 8 divisors - 1, 2, 3, 5, 6, 10, 15 and 30\n",
    "# Note you should only return a number, the count of divisors. The numbers between parentheses are shown only for you to see which numbers are counted in each case."
   ]
  },
  {
   "cell_type": "code",
   "execution_count": 2,
   "id": "da2c66d7",
   "metadata": {},
   "outputs": [],
   "source": [
    "\n",
    "    pass"
   ]
  },
  {
   "cell_type": "code",
   "execution_count": 15,
   "id": "71ef912e",
   "metadata": {},
   "outputs": [],
   "source": [
    "def divisors(n):\n",
    "    ans = []\n",
    "    for i in range(1,500000):\n",
    "        if n % i == 0:\n",
    "            ans.append(i)\n",
    "    return len(ans)"
   ]
  },
  {
   "cell_type": "code",
   "execution_count": 17,
   "id": "eab380ad",
   "metadata": {},
   "outputs": [
    {
     "data": {
      "text/plain": [
       "3"
      ]
     },
     "execution_count": 17,
     "metadata": {},
     "output_type": "execute_result"
    }
   ],
   "source": [
    "divisors(4)"
   ]
  },
  {
   "cell_type": "code",
   "execution_count": null,
   "id": "d670be86",
   "metadata": {},
   "outputs": [],
   "source": []
  }
 ],
 "metadata": {
  "kernelspec": {
   "display_name": "Python 3 (ipykernel)",
   "language": "python",
   "name": "python3"
  },
  "language_info": {
   "codemirror_mode": {
    "name": "ipython",
    "version": 3
   },
   "file_extension": ".py",
   "mimetype": "text/x-python",
   "name": "python",
   "nbconvert_exporter": "python",
   "pygments_lexer": "ipython3",
   "version": "3.10.9"
  }
 },
 "nbformat": 4,
 "nbformat_minor": 5
}
