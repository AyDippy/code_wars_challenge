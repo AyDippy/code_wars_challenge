{
 "cells": [
  {
   "cell_type": "code",
   "execution_count": 1,
   "id": "63bbf4be",
   "metadata": {},
   "outputs": [],
   "source": [
    "# An isogram is a word that has no repeating letters, consecutive or non-consecutive. Implement a function that determines whether a string that contains only letters is an isogram. Assume the empty string is an isogram. Ignore letter case.\n",
    "\n",
    "# Example: (Input --> Output)\n",
    "\n",
    "# \"Dermatoglyphics\" --> true \"aba\" --> false \"moOse\" --> false (ignore letter case)"
   ]
  },
  {
   "cell_type": "code",
   "execution_count": 75,
   "id": "a4507f19",
   "metadata": {},
   "outputs": [],
   "source": [
    "def is_isogram(string):\n",
    "    reduce = string.lower()\n",
    "    iso_ls= list(reduce)\n",
    "    ans = []\n",
    "    for i in iso_ls:\n",
    "        ans.append(reduce.count(i))\n",
    "    save = [num for num in ans if num > 1]\n",
    "    if len(save) > 0:\n",
    "        return False;\n",
    "    else:\n",
    "        return True"
   ]
  },
  {
   "cell_type": "code",
   "execution_count": 80,
   "id": "f298f9bf",
   "metadata": {},
   "outputs": [
    {
     "data": {
      "text/plain": [
       "True"
      ]
     },
     "execution_count": 80,
     "metadata": {},
     "output_type": "execute_result"
    }
   ],
   "source": [
    "is_isogram('mose')"
   ]
  }
 ],
 "metadata": {
  "kernelspec": {
   "display_name": "Python 3 (ipykernel)",
   "language": "python",
   "name": "python3"
  },
  "language_info": {
   "codemirror_mode": {
    "name": "ipython",
    "version": 3
   },
   "file_extension": ".py",
   "mimetype": "text/x-python",
   "name": "python",
   "nbconvert_exporter": "python",
   "pygments_lexer": "ipython3",
   "version": "3.10.9"
  }
 },
 "nbformat": 4,
 "nbformat_minor": 5
}
