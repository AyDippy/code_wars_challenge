{
 "cells": [
  {
   "cell_type": "code",
   "execution_count": 1,
   "id": "2f00561c",
   "metadata": {},
   "outputs": [],
   "source": [
    "# Take 2 strings s1 and s2 including only letters from a to z. Return a new sorted string, the longest possible, containing distinct letters - each taken only once - coming from s1 or s2.\n",
    "\n",
    "# Examples:\n",
    "# a = \"xyaabbbccccdefww\"\n",
    "# b = \"xxxxyyyyabklmopq\"\n",
    "# longest(a, b) -> \"abcdefklmopqwxy\"\n",
    "\n",
    "# a = \"abcdefghijklmnopqrstuvwxyz\"\n",
    "# longest(a, a) -> \"abcdefghijklmnopqrstuvwxyz\""
   ]
  },
  {
   "cell_type": "code",
   "execution_count": 16,
   "id": "2256d8a8",
   "metadata": {},
   "outputs": [],
   "source": [
    "def longest(a1, a2):\n",
    "    total= a1+a2\n",
    "    total_sorted = list(set(total))\n",
    "    total_sorted.sort()\n",
    "    ans = ''.join(total_sorted)\n",
    "    return ans"
   ]
  },
  {
   "cell_type": "code",
   "execution_count": 18,
   "id": "87363abf",
   "metadata": {},
   "outputs": [
    {
     "data": {
      "text/plain": [
       "'abcdefghijklmnopqrstuvwxyz'"
      ]
     },
     "execution_count": 18,
     "metadata": {},
     "output_type": "execute_result"
    }
   ],
   "source": [
    "longest(\"abcdefghijklmnopqrstuvwxyz\",\"abcdefghijklmnopqrstuvwxyz\" )"
   ]
  },
  {
   "cell_type": "code",
   "execution_count": null,
   "id": "0c811567",
   "metadata": {},
   "outputs": [],
   "source": []
  }
 ],
 "metadata": {
  "kernelspec": {
   "display_name": "Python 3 (ipykernel)",
   "language": "python",
   "name": "python3"
  },
  "language_info": {
   "codemirror_mode": {
    "name": "ipython",
    "version": 3
   },
   "file_extension": ".py",
   "mimetype": "text/x-python",
   "name": "python",
   "nbconvert_exporter": "python",
   "pygments_lexer": "ipython3",
   "version": "3.10.9"
  }
 },
 "nbformat": 4,
 "nbformat_minor": 5
}
