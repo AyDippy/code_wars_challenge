{
 "cells": [
  {
   "cell_type": "code",
   "execution_count": 1,
   "id": "82453898",
   "metadata": {
    "ExecuteTime": {
     "end_time": "2023-05-26T23:33:22.838450Z",
     "start_time": "2023-05-26T23:33:22.811466Z"
    }
   },
   "outputs": [
    {
     "data": {
      "text/plain": [
       "\"Given an array of integers, remove the smallest value. Do not mutate the original array/list. If there are multiple elements with the same value, remove the one with a lower index. If you get an empty array/list, return an empty array/list.\\n\\nDon't change the order of the elements that are left.\""
      ]
     },
     "execution_count": 1,
     "metadata": {},
     "output_type": "execute_result"
    }
   ],
   "source": [
    "#The museum of incredible dull things wants to get rid of some exhibitions. Miriam, the interior architect, comes up with a plan to remove the most boring exhibitions. She gives them a rating, and then removes the one with the lowest rating.\n",
    "\n",
    "#However, just as she finished rating all exhibitions, she's off to an important fair, so she asks you to write a program that tells her the ratings of the items after one removed the lowest one. Fair enough.\n",
    "\n",
    "'''Given an array of integers, remove the smallest value. Do not mutate the original array/list. If there are multiple elements with the same value, remove the one with a lower index. If you get an empty array/list, return an empty array/list.\n",
    "\n",
    "Don't change the order of the elements that are left.'''\n",
    "\n",
    "#* Input: [1,2,3,4,5], output = [2,3,4,5]\n",
    "#* Input: [5,3,2,1,4], output = [5,3,2,4]\n",
    "#* Input: [2,2,1,2,1], output = [2,2,2,1]"
   ]
  },
  {
   "cell_type": "code",
   "execution_count": 17,
   "id": "16b6f033",
   "metadata": {
    "ExecuteTime": {
     "end_time": "2023-05-26T23:43:51.313923Z",
     "start_time": "2023-05-26T23:43:51.296919Z"
    }
   },
   "outputs": [
    {
     "data": {
      "text/plain": [
       "[140, 101]"
      ]
     },
     "execution_count": 17,
     "metadata": {},
     "output_type": "execute_result"
    }
   ],
   "source": [
    "def remove_smallest(numbers):\n",
    "    e = []\n",
    "    if len(numbers) >= 1:\n",
    "        numbers.remove(min(numbers))\n",
    "        return numbers\n",
    "    else:\n",
    "        return e\n",
    "\n",
    "remove_smallest([140, 13, 101])"
   ]
  },
  {
   "cell_type": "code",
   "execution_count": 18,
   "id": "aca576a1",
   "metadata": {
    "ExecuteTime": {
     "end_time": "2023-05-26T23:48:01.025584Z",
     "start_time": "2023-05-26T23:48:01.021585Z"
    }
   },
   "outputs": [],
   "source": [
    "#CHATGPT"
   ]
  },
  {
   "cell_type": "code",
   "execution_count": 19,
   "id": "f3904b2c",
   "metadata": {
    "ExecuteTime": {
     "end_time": "2023-05-26T23:48:06.940682Z",
     "start_time": "2023-05-26T23:48:06.930688Z"
    }
   },
   "outputs": [],
   "source": [
    "def remove_smallest(numbers):\n",
    "    if not numbers:\n",
    "        return []\n",
    "\n",
    "    # Find the minimum value and its index\n",
    "    min_value = min(numbers)\n",
    "    min_index = numbers.index(min_value)\n",
    "\n",
    "    # Create a new list without the smallest value\n",
    "    result = numbers[:min_index] + numbers[min_index+1:]\n",
    "\n",
    "    return result"
   ]
  },
  {
   "cell_type": "code",
   "execution_count": null,
   "id": "a9f888ae",
   "metadata": {},
   "outputs": [],
   "source": []
  }
 ],
 "metadata": {
  "hide_input": false,
  "kernelspec": {
   "display_name": "Python 3",
   "language": "python",
   "name": "python3"
  },
  "language_info": {
   "codemirror_mode": {
    "name": "ipython",
    "version": 3
   },
   "file_extension": ".py",
   "mimetype": "text/x-python",
   "name": "python",
   "nbconvert_exporter": "python",
   "pygments_lexer": "ipython3",
   "version": "3.8.8"
  },
  "latex_envs": {
   "LaTeX_envs_menu_present": true,
   "autoclose": false,
   "autocomplete": true,
   "bibliofile": "biblio.bib",
   "cite_by": "apalike",
   "current_citInitial": 1,
   "eqLabelWithNumbers": true,
   "eqNumInitial": 1,
   "hotkeys": {
    "equation": "Ctrl-E",
    "itemize": "Ctrl-I"
   },
   "labels_anchors": false,
   "latex_user_defs": false,
   "report_style_numbering": false,
   "user_envs_cfg": false
  },
  "nbTranslate": {
   "displayLangs": [
    "*"
   ],
   "hotkey": "alt-t",
   "langInMainMenu": true,
   "sourceLang": "en",
   "targetLang": "fr",
   "useGoogleTranslate": true
  },
  "toc": {
   "base_numbering": 1,
   "nav_menu": {},
   "number_sections": true,
   "sideBar": true,
   "skip_h1_title": false,
   "title_cell": "Table of Contents",
   "title_sidebar": "Contents",
   "toc_cell": false,
   "toc_position": {},
   "toc_section_display": true,
   "toc_window_display": false
  },
  "varInspector": {
   "cols": {
    "lenName": 16,
    "lenType": 16,
    "lenVar": 40
   },
   "kernels_config": {
    "python": {
     "delete_cmd_postfix": "",
     "delete_cmd_prefix": "del ",
     "library": "var_list.py",
     "varRefreshCmd": "print(var_dic_list())"
    },
    "r": {
     "delete_cmd_postfix": ") ",
     "delete_cmd_prefix": "rm(",
     "library": "var_list.r",
     "varRefreshCmd": "cat(var_dic_list()) "
    }
   },
   "types_to_exclude": [
    "module",
    "function",
    "builtin_function_or_method",
    "instance",
    "_Feature"
   ],
   "window_display": false
  }
 },
 "nbformat": 4,
 "nbformat_minor": 5
}
