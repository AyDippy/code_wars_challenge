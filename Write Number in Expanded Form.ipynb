{
 "cells": [
  {
   "cell_type": "code",
   "execution_count": 1,
   "id": "786dd211",
   "metadata": {},
   "outputs": [],
   "source": [
    "# You will be given a number and you will need to return it as a string in Expanded Form. For example:\n",
    "\n",
    "# expanded_form(12) # Should return '10 + 2'\n",
    "# expanded_form(42) # Should return '40 + 2'\n",
    "# expanded_form(70304) # Should return '70000 + 300 + 4'"
   ]
  },
  {
   "cell_type": "code",
   "execution_count": 90,
   "id": "1164a729",
   "metadata": {},
   "outputs": [],
   "source": [
    "def expanded_form(num):\n",
    "    inde = []\n",
    "    ans = []\n",
    "    num_s =str(num)\n",
    "    for i,j in enumerate(num_s):\n",
    "        inde.append(i)\n",
    "    inde.sort(reverse = True)\n",
    "    inde\n",
    "    for i, j in zip(inde, list(num_s)):\n",
    "        ans.append(j +('0' * i))\n",
    "        wee = [int(i) for i in ans]\n",
    "        weee = [str(i) for i in wee]\n",
    "        weeee = [i for i in weee if i != '0']\n",
    "        f_ans = ' + '.join(weeee)\n",
    "    return f_ans"
   ]
  },
  {
   "cell_type": "code",
   "execution_count": 98,
   "id": "43dae51b",
   "metadata": {},
   "outputs": [
    {
     "data": {
      "text/plain": [
       "'100 + 2'"
      ]
     },
     "execution_count": 98,
     "metadata": {},
     "output_type": "execute_result"
    }
   ],
   "source": [
    "expanded_form(102)"
   ]
  },
  {
   "cell_type": "code",
   "execution_count": 16,
   "id": "41c42535",
   "metadata": {},
   "outputs": [
    {
     "data": {
      "text/plain": [
       "[0, 1]"
      ]
     },
     "execution_count": 16,
     "metadata": {},
     "output_type": "execute_result"
    }
   ],
   "source": [
    "ans"
   ]
  },
  {
   "cell_type": "code",
   "execution_count": 72,
   "id": "3ed5e3c5",
   "metadata": {},
   "outputs": [],
   "source": [
    "y = '126789'\n"
   ]
  },
  {
   "cell_type": "code",
   "execution_count": 82,
   "id": "a6867dac",
   "metadata": {},
   "outputs": [],
   "source": [
    "we = '70000 + 0000 + 300 + 00 + 4'.split(' + ')"
   ]
  },
  {
   "cell_type": "code",
   "execution_count": 88,
   "id": "c00dd2dc",
   "metadata": {},
   "outputs": [],
   "source": []
  },
  {
   "cell_type": "code",
   "execution_count": 89,
   "id": "44313c8c",
   "metadata": {},
   "outputs": [
    {
     "data": {
      "text/plain": [
       "'70000 + 300 + 4'"
      ]
     },
     "execution_count": 89,
     "metadata": {},
     "output_type": "execute_result"
    }
   ],
   "source": [
    "f_ans"
   ]
  },
  {
   "cell_type": "code",
   "execution_count": null,
   "id": "1ba1d67e",
   "metadata": {},
   "outputs": [],
   "source": []
  }
 ],
 "metadata": {
  "kernelspec": {
   "display_name": "Python 3 (ipykernel)",
   "language": "python",
   "name": "python3"
  },
  "language_info": {
   "codemirror_mode": {
    "name": "ipython",
    "version": 3
   },
   "file_extension": ".py",
   "mimetype": "text/x-python",
   "name": "python",
   "nbconvert_exporter": "python",
   "pygments_lexer": "ipython3",
   "version": "3.10.9"
  }
 },
 "nbformat": 4,
 "nbformat_minor": 5
}
