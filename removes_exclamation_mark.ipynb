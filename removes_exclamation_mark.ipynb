{
 "cells": [
  {
   "cell_type": "code",
   "execution_count": 21,
   "id": "740131c7",
   "metadata": {
    "ExecuteTime": {
     "end_time": "2023-05-14T23:15:54.192338Z",
     "start_time": "2023-05-14T23:15:54.181345Z"
    }
   },
   "outputs": [],
   "source": []
  },
  {
   "cell_type": "code",
   "execution_count": 37,
   "id": "db7f2e2f",
   "metadata": {
    "ExecuteTime": {
     "end_time": "2023-05-14T23:35:00.458710Z",
     "start_time": "2023-05-14T23:35:00.444719Z"
    }
   },
   "outputs": [],
   "source": [
    "def remove_exclamation_marks(s):\n",
    "    if '!' in list(s):\n",
    "        list(s).remove('!')\n",
    "    else:\n",
    "        print(s)\n"
   ]
  },
  {
   "cell_type": "code",
   "execution_count": 41,
   "id": "8a157c8e",
   "metadata": {
    "ExecuteTime": {
     "end_time": "2023-05-14T23:40:16.333573Z",
     "start_time": "2023-05-14T23:40:16.325578Z"
    },
    "run_control": {
     "marked": false
    }
   },
   "outputs": [],
   "source": [
    "remove_exclamation_marks('I love you!')"
   ]
  },
  {
   "cell_type": "code",
   "execution_count": 51,
   "id": "1689c3c3",
   "metadata": {
    "ExecuteTime": {
     "end_time": "2023-05-14T23:43:15.386963Z",
     "start_time": "2023-05-14T23:43:15.378967Z"
    }
   },
   "outputs": [],
   "source": [
    "l = 'wow!, I love you!'"
   ]
  },
  {
   "cell_type": "code",
   "execution_count": 52,
   "id": "610dfff3",
   "metadata": {
    "ExecuteTime": {
     "end_time": "2023-05-14T23:43:15.850715Z",
     "start_time": "2023-05-14T23:43:15.832711Z"
    }
   },
   "outputs": [],
   "source": [
    "lst = list(l)"
   ]
  },
  {
   "cell_type": "code",
   "execution_count": 53,
   "id": "cad6e1b2",
   "metadata": {
    "ExecuteTime": {
     "end_time": "2023-05-14T23:43:16.298221Z",
     "start_time": "2023-05-14T23:43:16.278212Z"
    }
   },
   "outputs": [],
   "source": [
    "new = [letter for letter in lst if letter != '!']"
   ]
  },
  {
   "cell_type": "code",
   "execution_count": 54,
   "id": "b8b058fe",
   "metadata": {
    "ExecuteTime": {
     "end_time": "2023-05-14T23:43:16.723369Z",
     "start_time": "2023-05-14T23:43:16.713377Z"
    }
   },
   "outputs": [
    {
     "data": {
      "text/plain": [
       "'wow, I love you'"
      ]
     },
     "execution_count": 54,
     "metadata": {},
     "output_type": "execute_result"
    }
   ],
   "source": [
    "''.join(new)"
   ]
  },
  {
   "cell_type": "code",
   "execution_count": null,
   "id": "7c66a4e2",
   "metadata": {},
   "outputs": [],
   "source": []
  }
 ],
 "metadata": {
  "hide_input": false,
  "kernelspec": {
   "display_name": "Python 3",
   "language": "python",
   "name": "python3"
  },
  "language_info": {
   "codemirror_mode": {
    "name": "ipython",
    "version": 3
   },
   "file_extension": ".py",
   "mimetype": "text/x-python",
   "name": "python",
   "nbconvert_exporter": "python",
   "pygments_lexer": "ipython3",
   "version": "3.8.8"
  },
  "latex_envs": {
   "LaTeX_envs_menu_present": true,
   "autoclose": false,
   "autocomplete": true,
   "bibliofile": "biblio.bib",
   "cite_by": "apalike",
   "current_citInitial": 1,
   "eqLabelWithNumbers": true,
   "eqNumInitial": 1,
   "hotkeys": {
    "equation": "Ctrl-E",
    "itemize": "Ctrl-I"
   },
   "labels_anchors": false,
   "latex_user_defs": false,
   "report_style_numbering": false,
   "user_envs_cfg": false
  },
  "nbTranslate": {
   "displayLangs": [
    "*"
   ],
   "hotkey": "alt-t",
   "langInMainMenu": true,
   "sourceLang": "en",
   "targetLang": "fr",
   "useGoogleTranslate": true
  },
  "toc": {
   "base_numbering": 1,
   "nav_menu": {},
   "number_sections": true,
   "sideBar": true,
   "skip_h1_title": false,
   "title_cell": "Table of Contents",
   "title_sidebar": "Contents",
   "toc_cell": false,
   "toc_position": {},
   "toc_section_display": true,
   "toc_window_display": false
  },
  "varInspector": {
   "cols": {
    "lenName": 16,
    "lenType": 16,
    "lenVar": 40
   },
   "kernels_config": {
    "python": {
     "delete_cmd_postfix": "",
     "delete_cmd_prefix": "del ",
     "library": "var_list.py",
     "varRefreshCmd": "print(var_dic_list())"
    },
    "r": {
     "delete_cmd_postfix": ") ",
     "delete_cmd_prefix": "rm(",
     "library": "var_list.r",
     "varRefreshCmd": "cat(var_dic_list()) "
    }
   },
   "types_to_exclude": [
    "module",
    "function",
    "builtin_function_or_method",
    "instance",
    "_Feature"
   ],
   "window_display": false
  }
 },
 "nbformat": 4,
 "nbformat_minor": 5
}
