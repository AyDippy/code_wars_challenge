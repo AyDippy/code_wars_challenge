{
 "cells": [
  {
   "cell_type": "code",
   "execution_count": 19,
   "id": "6182e284",
   "metadata": {
    "ExecuteTime": {
     "end_time": "2023-05-24T00:42:09.596098Z",
     "start_time": "2023-05-24T00:42:09.584110Z"
    }
   },
   "outputs": [],
   "source": [
    "#Returns only names with 4 letters in a list"
   ]
  },
  {
   "cell_type": "code",
   "execution_count": 21,
   "id": "8a7e1f85",
   "metadata": {
    "ExecuteTime": {
     "end_time": "2023-05-24T00:42:33.313046Z",
     "start_time": "2023-05-24T00:42:33.289061Z"
    }
   },
   "outputs": [
    {
     "data": {
      "text/plain": [
       "['Ryan', 'Yous', 'mane', 'Robo']"
      ]
     },
     "execution_count": 21,
     "metadata": {},
     "output_type": "execute_result"
    }
   ],
   "source": [
    "def friend(x):\n",
    "    ans = [friends for friends in x if len(friends) == 4]\n",
    "    return ans\n",
    "friend( [\"Ryan\", \"Kieran\", \"Jason\", \"Yous\", 'Salah', 'mane', 'Robo'])"
   ]
  },
  {
   "cell_type": "code",
   "execution_count": null,
   "id": "61240f73",
   "metadata": {
    "ExecuteTime": {
     "end_time": "2023-05-24T00:31:35.372762Z",
     "start_time": "2023-05-24T00:31:35.351778Z"
    }
   },
   "outputs": [],
   "source": []
  },
  {
   "cell_type": "code",
   "execution_count": null,
   "id": "136d5251",
   "metadata": {
    "ExecuteTime": {
     "end_time": "2023-05-24T00:31:40.513809Z",
     "start_time": "2023-05-24T00:31:40.489844Z"
    }
   },
   "outputs": [],
   "source": []
  },
  {
   "cell_type": "code",
   "execution_count": null,
   "id": "d676a610",
   "metadata": {},
   "outputs": [],
   "source": []
  }
 ],
 "metadata": {
  "hide_input": false,
  "kernelspec": {
   "display_name": "Python 3",
   "language": "python",
   "name": "python3"
  },
  "language_info": {
   "codemirror_mode": {
    "name": "ipython",
    "version": 3
   },
   "file_extension": ".py",
   "mimetype": "text/x-python",
   "name": "python",
   "nbconvert_exporter": "python",
   "pygments_lexer": "ipython3",
   "version": "3.8.8"
  },
  "latex_envs": {
   "LaTeX_envs_menu_present": true,
   "autoclose": false,
   "autocomplete": true,
   "bibliofile": "biblio.bib",
   "cite_by": "apalike",
   "current_citInitial": 1,
   "eqLabelWithNumbers": true,
   "eqNumInitial": 1,
   "hotkeys": {
    "equation": "Ctrl-E",
    "itemize": "Ctrl-I"
   },
   "labels_anchors": false,
   "latex_user_defs": false,
   "report_style_numbering": false,
   "user_envs_cfg": false
  },
  "nbTranslate": {
   "displayLangs": [
    "*"
   ],
   "hotkey": "alt-t",
   "langInMainMenu": true,
   "sourceLang": "en",
   "targetLang": "fr",
   "useGoogleTranslate": true
  },
  "toc": {
   "base_numbering": 1,
   "nav_menu": {},
   "number_sections": true,
   "sideBar": true,
   "skip_h1_title": false,
   "title_cell": "Table of Contents",
   "title_sidebar": "Contents",
   "toc_cell": false,
   "toc_position": {},
   "toc_section_display": true,
   "toc_window_display": false
  },
  "varInspector": {
   "cols": {
    "lenName": 16,
    "lenType": 16,
    "lenVar": 40
   },
   "kernels_config": {
    "python": {
     "delete_cmd_postfix": "",
     "delete_cmd_prefix": "del ",
     "library": "var_list.py",
     "varRefreshCmd": "print(var_dic_list())"
    },
    "r": {
     "delete_cmd_postfix": ") ",
     "delete_cmd_prefix": "rm(",
     "library": "var_list.r",
     "varRefreshCmd": "cat(var_dic_list()) "
    }
   },
   "types_to_exclude": [
    "module",
    "function",
    "builtin_function_or_method",
    "instance",
    "_Feature"
   ],
   "window_display": false
  }
 },
 "nbformat": 4,
 "nbformat_minor": 5
}
