{
 "cells": [
  {
   "cell_type": "code",
   "execution_count": 11,
   "id": "197dd8d7",
   "metadata": {
    "ExecuteTime": {
     "end_time": "2023-05-21T07:08:25.177713Z",
     "start_time": "2023-05-21T07:08:25.165724Z"
    }
   },
   "outputs": [],
   "source": [
    "#A function that gives the min and max number in a list"
   ]
  },
  {
   "cell_type": "code",
   "execution_count": 14,
   "id": "628704e6",
   "metadata": {
    "ExecuteTime": {
     "end_time": "2023-05-21T07:11:32.375876Z",
     "start_time": "2023-05-21T07:11:32.355896Z"
    }
   },
   "outputs": [],
   "source": [
    "lst = [3]\n",
    "ans = []\n",
    "if  len(lst) > 1:\n",
    "    ans.append([min(lst), max(lst)])\n",
    "else:\n",
    "    ans.append(lst * 2)\n",
    "    "
   ]
  },
  {
   "cell_type": "code",
   "execution_count": 15,
   "id": "27f80ea9",
   "metadata": {
    "ExecuteTime": {
     "end_time": "2023-05-21T07:11:32.922562Z",
     "start_time": "2023-05-21T07:11:32.902576Z"
    }
   },
   "outputs": [
    {
     "data": {
      "text/plain": [
       "[3, 3]"
      ]
     },
     "execution_count": 15,
     "metadata": {},
     "output_type": "execute_result"
    }
   ],
   "source": [
    "ans[0]"
   ]
  },
  {
   "cell_type": "code",
   "execution_count": null,
   "id": "4ecfcfd7",
   "metadata": {
    "ExecuteTime": {
     "end_time": "2023-05-21T06:55:03.542555Z",
     "start_time": "2023-05-21T06:55:03.530565Z"
    }
   },
   "outputs": [],
   "source": []
  },
  {
   "cell_type": "code",
   "execution_count": null,
   "id": "01d3ff3e",
   "metadata": {
    "ExecuteTime": {
     "end_time": "2023-05-21T06:54:49.104009Z",
     "start_time": "2023-05-21T06:54:49.082015Z"
    }
   },
   "outputs": [],
   "source": []
  },
  {
   "cell_type": "code",
   "execution_count": null,
   "id": "09913a1d",
   "metadata": {},
   "outputs": [],
   "source": []
  }
 ],
 "metadata": {
  "hide_input": false,
  "kernelspec": {
   "display_name": "Python 3",
   "language": "python",
   "name": "python3"
  },
  "language_info": {
   "codemirror_mode": {
    "name": "ipython",
    "version": 3
   },
   "file_extension": ".py",
   "mimetype": "text/x-python",
   "name": "python",
   "nbconvert_exporter": "python",
   "pygments_lexer": "ipython3",
   "version": "3.8.8"
  },
  "latex_envs": {
   "LaTeX_envs_menu_present": true,
   "autoclose": false,
   "autocomplete": true,
   "bibliofile": "biblio.bib",
   "cite_by": "apalike",
   "current_citInitial": 1,
   "eqLabelWithNumbers": true,
   "eqNumInitial": 1,
   "hotkeys": {
    "equation": "Ctrl-E",
    "itemize": "Ctrl-I"
   },
   "labels_anchors": false,
   "latex_user_defs": false,
   "report_style_numbering": false,
   "user_envs_cfg": false
  },
  "nbTranslate": {
   "displayLangs": [
    "*"
   ],
   "hotkey": "alt-t",
   "langInMainMenu": true,
   "sourceLang": "en",
   "targetLang": "fr",
   "useGoogleTranslate": true
  },
  "toc": {
   "base_numbering": 1,
   "nav_menu": {},
   "number_sections": true,
   "sideBar": true,
   "skip_h1_title": false,
   "title_cell": "Table of Contents",
   "title_sidebar": "Contents",
   "toc_cell": false,
   "toc_position": {},
   "toc_section_display": true,
   "toc_window_display": false
  },
  "varInspector": {
   "cols": {
    "lenName": 16,
    "lenType": 16,
    "lenVar": 40
   },
   "kernels_config": {
    "python": {
     "delete_cmd_postfix": "",
     "delete_cmd_prefix": "del ",
     "library": "var_list.py",
     "varRefreshCmd": "print(var_dic_list())"
    },
    "r": {
     "delete_cmd_postfix": ") ",
     "delete_cmd_prefix": "rm(",
     "library": "var_list.r",
     "varRefreshCmd": "cat(var_dic_list()) "
    }
   },
   "types_to_exclude": [
    "module",
    "function",
    "builtin_function_or_method",
    "instance",
    "_Feature"
   ],
   "window_display": false
  }
 },
 "nbformat": 4,
 "nbformat_minor": 5
}
