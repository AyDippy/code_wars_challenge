{
 "cells": [
  {
   "cell_type": "code",
   "execution_count": 1,
   "id": "90072c76",
   "metadata": {
    "ExecuteTime": {
     "end_time": "2023-05-30T00:50:53.453421Z",
     "start_time": "2023-05-30T00:50:53.443428Z"
    }
   },
   "outputs": [],
   "source": [
    "#A pangram is a sentence that contains every single letter of the alphabet at least once. For example, the sentence \"The quick brown fox jumps over the lazy dog\" is a pangram, because it uses the letters A-Z at least once (case is irrelevant).\n",
    "\n",
    "#Given a string, detect whether or not it is a pangram. Return True if it is, False if not. Ignore numbers and punctuation."
   ]
  },
  {
   "cell_type": "code",
   "execution_count": 2,
   "id": "309f1982",
   "metadata": {
    "ExecuteTime": {
     "end_time": "2023-05-30T00:50:53.643315Z",
     "start_time": "2023-05-30T00:50:53.459418Z"
    }
   },
   "outputs": [
    {
     "data": {
      "text/plain": [
       "True"
      ]
     },
     "execution_count": 2,
     "metadata": {},
     "output_type": "execute_result"
    }
   ],
   "source": [
    "def is_pangram(s):\n",
    "\n",
    "#Created A list that contains every single alphabet\n",
    "    a = 'abcdefghijklmnopqrstuvwxyz'\n",
    "    lst_a = list(a)\n",
    "    \n",
    "#passed in a function to s that converts every alphabet in s to lower case\n",
    "    l_s = s.lower()\n",
    "    \n",
    "#passed it into a list \n",
    "    lst_s = list(l_s)\n",
    "\n",
    "#Using list comprehension, created a list that checks for letters in my sentence\n",
    "    ans = [letters for letters in lst_a if letters in lst_s]\n",
    "    if ans == lst_a:\n",
    "        return True\n",
    "    else:\n",
    "        return False\n",
    "is_pangram('The quick brown fox jumps over the lazy dog')"
   ]
  },
  {
   "cell_type": "code",
   "execution_count": null,
   "id": "d6a20d31",
   "metadata": {
    "ExecuteTime": {
     "end_time": "2023-05-30T00:48:20.434520Z",
     "start_time": "2023-05-30T00:48:20.419551Z"
    }
   },
   "outputs": [],
   "source": []
  },
  {
   "cell_type": "code",
   "execution_count": null,
   "id": "d522db93",
   "metadata": {
    "ExecuteTime": {
     "end_time": "2023-05-30T00:48:46.761997Z",
     "start_time": "2023-05-30T00:48:46.742016Z"
    }
   },
   "outputs": [],
   "source": []
  },
  {
   "cell_type": "code",
   "execution_count": null,
   "id": "e07b88d1",
   "metadata": {
    "ExecuteTime": {
     "end_time": "2023-05-30T00:48:49.078775Z",
     "start_time": "2023-05-30T00:48:49.068781Z"
    }
   },
   "outputs": [],
   "source": []
  },
  {
   "cell_type": "code",
   "execution_count": null,
   "id": "b8409ae4",
   "metadata": {
    "ExecuteTime": {
     "end_time": "2023-05-30T00:40:56.660949Z",
     "start_time": "2023-05-30T00:40:56.643960Z"
    }
   },
   "outputs": [],
   "source": []
  },
  {
   "cell_type": "code",
   "execution_count": null,
   "id": "21ce854f",
   "metadata": {
    "ExecuteTime": {
     "end_time": "2023-05-30T00:45:08.855611Z",
     "start_time": "2023-05-30T00:45:08.832622Z"
    }
   },
   "outputs": [],
   "source": []
  },
  {
   "cell_type": "code",
   "execution_count": null,
   "id": "8d701061",
   "metadata": {},
   "outputs": [],
   "source": []
  }
 ],
 "metadata": {
  "hide_input": false,
  "kernelspec": {
   "display_name": "Python 3",
   "language": "python",
   "name": "python3"
  },
  "language_info": {
   "codemirror_mode": {
    "name": "ipython",
    "version": 3
   },
   "file_extension": ".py",
   "mimetype": "text/x-python",
   "name": "python",
   "nbconvert_exporter": "python",
   "pygments_lexer": "ipython3",
   "version": "3.8.8"
  },
  "latex_envs": {
   "LaTeX_envs_menu_present": true,
   "autoclose": false,
   "autocomplete": true,
   "bibliofile": "biblio.bib",
   "cite_by": "apalike",
   "current_citInitial": 1,
   "eqLabelWithNumbers": true,
   "eqNumInitial": 1,
   "hotkeys": {
    "equation": "Ctrl-E",
    "itemize": "Ctrl-I"
   },
   "labels_anchors": false,
   "latex_user_defs": false,
   "report_style_numbering": false,
   "user_envs_cfg": false
  },
  "nbTranslate": {
   "displayLangs": [
    "*"
   ],
   "hotkey": "alt-t",
   "langInMainMenu": true,
   "sourceLang": "en",
   "targetLang": "fr",
   "useGoogleTranslate": true
  },
  "toc": {
   "base_numbering": 1,
   "nav_menu": {},
   "number_sections": true,
   "sideBar": true,
   "skip_h1_title": false,
   "title_cell": "Table of Contents",
   "title_sidebar": "Contents",
   "toc_cell": false,
   "toc_position": {},
   "toc_section_display": true,
   "toc_window_display": false
  },
  "varInspector": {
   "cols": {
    "lenName": 16,
    "lenType": 16,
    "lenVar": 40
   },
   "kernels_config": {
    "python": {
     "delete_cmd_postfix": "",
     "delete_cmd_prefix": "del ",
     "library": "var_list.py",
     "varRefreshCmd": "print(var_dic_list())"
    },
    "r": {
     "delete_cmd_postfix": ") ",
     "delete_cmd_prefix": "rm(",
     "library": "var_list.r",
     "varRefreshCmd": "cat(var_dic_list()) "
    }
   },
   "types_to_exclude": [
    "module",
    "function",
    "builtin_function_or_method",
    "instance",
    "_Feature"
   ],
   "window_display": false
  }
 },
 "nbformat": 4,
 "nbformat_minor": 5
}
