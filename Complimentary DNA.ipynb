{
 "cells": [
  {
   "cell_type": "code",
   "execution_count": 122,
   "id": "881878e5",
   "metadata": {
    "ExecuteTime": {
     "end_time": "2023-05-14T21:27:31.435997Z",
     "start_time": "2023-05-14T21:27:31.417008Z"
    }
   },
   "outputs": [],
   "source": [
    "#A code that takes in a DNA and returns its complimentary DNA, E.g \"ATTGC\" --> \"TAACG\", \"GTAT\" --> \"CATA\""
   ]
  },
  {
   "cell_type": "code",
   "execution_count": 152,
   "id": "375ea29c",
   "metadata": {
    "ExecuteTime": {
     "end_time": "2023-05-14T21:46:50.572607Z",
     "start_time": "2023-05-14T21:46:50.560608Z"
    }
   },
   "outputs": [],
   "source": [
    "dna = list(\"GTATTACGCGATTTAGG\")\n",
    "yh = ''\n",
    "for i in dna:\n",
    "    if i=='A':\n",
    "        yh += i.replace('A','T')\n",
    "    elif i== 'T':\n",
    "        yh += i.replace('T','A')\n",
    "    elif i== 'C':\n",
    "        yh += i.replace('C','G')\n",
    "    else:\n",
    "        yh += i.replace('G', 'C')\n"
   ]
  },
  {
   "cell_type": "code",
   "execution_count": 153,
   "id": "7ba8ac05",
   "metadata": {
    "ExecuteTime": {
     "end_time": "2023-05-14T21:46:51.119952Z",
     "start_time": "2023-05-14T21:46:51.107954Z"
    }
   },
   "outputs": [
    {
     "data": {
      "text/plain": [
       "'CATAATGCGCTAAATCC'"
      ]
     },
     "execution_count": 153,
     "metadata": {},
     "output_type": "execute_result"
    }
   ],
   "source": [
    "yh\n",
    "    "
   ]
  },
  {
   "cell_type": "code",
   "execution_count": 163,
   "id": "4568461c",
   "metadata": {
    "ExecuteTime": {
     "end_time": "2023-05-14T21:53:46.149675Z",
     "start_time": "2023-05-14T21:53:46.137684Z"
    }
   },
   "outputs": [],
   "source": [
    "def DNA_strand(dna):\n",
    "    yh = ''\n",
    "    for i in list(dna):\n",
    "        \n",
    "        if i=='A':\n",
    "            yh += i.replace('A','T')\n",
    "        elif i== 'T':\n",
    "            yh += i.replace('T','A')\n",
    "        elif i== 'C':\n",
    "            yh += i.replace('C','G')\n",
    "        else:\n",
    "            yh += i.replace('G', 'C')\n",
    "    return yh\n",
    "    "
   ]
  },
  {
   "cell_type": "code",
   "execution_count": 165,
   "id": "91cbb66a",
   "metadata": {
    "ExecuteTime": {
     "end_time": "2023-05-14T21:54:11.733281Z",
     "start_time": "2023-05-14T21:54:11.720285Z"
    }
   },
   "outputs": [
    {
     "data": {
      "text/plain": [
       "'GTA'"
      ]
     },
     "execution_count": 165,
     "metadata": {},
     "output_type": "execute_result"
    }
   ],
   "source": [
    "DNA_strand(\"CAT\")"
   ]
  },
  {
   "cell_type": "code",
   "execution_count": null,
   "id": "f4100a1b",
   "metadata": {
    "ExecuteTime": {
     "end_time": "2023-05-14T21:18:34.241771Z",
     "start_time": "2023-05-14T21:18:34.215786Z"
    }
   },
   "outputs": [],
   "source": [
    "\n",
    "    \n",
    "    "
   ]
  },
  {
   "cell_type": "code",
   "execution_count": null,
   "id": "fcca929f",
   "metadata": {
    "ExecuteTime": {
     "end_time": "2023-05-14T21:20:34.968401Z",
     "start_time": "2023-05-14T21:20:34.956408Z"
    }
   },
   "outputs": [],
   "source": []
  },
  {
   "cell_type": "code",
   "execution_count": 40,
   "id": "80751bbf",
   "metadata": {
    "ExecuteTime": {
     "end_time": "2023-05-14T20:52:28.730647Z",
     "start_time": "2023-05-14T20:52:28.708640Z"
    }
   },
   "outputs": [
    {
     "data": {
      "text/plain": [
       "[]"
      ]
     },
     "execution_count": 40,
     "metadata": {},
     "output_type": "execute_result"
    }
   ],
   "source": []
  },
  {
   "cell_type": "code",
   "execution_count": null,
   "id": "a60259ad",
   "metadata": {
    "ExecuteTime": {
     "end_time": "2023-05-14T22:03:36.454542Z",
     "start_time": "2023-05-14T22:03:36.440550Z"
    }
   },
   "outputs": [],
   "source": []
  },
  {
   "cell_type": "code",
   "execution_count": 193,
   "id": "f4ba1d61",
   "metadata": {
    "ExecuteTime": {
     "end_time": "2023-05-14T22:03:58.822324Z",
     "start_time": "2023-05-14T22:03:58.805335Z"
    }
   },
   "outputs": [
    {
     "data": {
      "text/plain": [
       "'GTAT'"
      ]
     },
     "execution_count": 193,
     "metadata": {},
     "output_type": "execute_result"
    }
   ],
   "source": [
    "x"
   ]
  },
  {
   "cell_type": "code",
   "execution_count": 194,
   "id": "48af537d",
   "metadata": {
    "ExecuteTime": {
     "end_time": "2023-05-14T22:03:59.170129Z",
     "start_time": "2023-05-14T22:03:59.151136Z"
    }
   },
   "outputs": [
    {
     "data": {
      "text/plain": [
       "''"
      ]
     },
     "execution_count": 194,
     "metadata": {},
     "output_type": "execute_result"
    }
   ],
   "source": [
    "z"
   ]
  },
  {
   "cell_type": "code",
   "execution_count": 197,
   "id": "dc87eb03",
   "metadata": {
    "ExecuteTime": {
     "end_time": "2023-05-14T22:08:15.939253Z",
     "start_time": "2023-05-14T22:08:15.925256Z"
    }
   },
   "outputs": [],
   "source": []
  },
  {
   "cell_type": "code",
   "execution_count": 198,
   "id": "8dc7147b",
   "metadata": {
    "ExecuteTime": {
     "end_time": "2023-05-14T22:08:39.016197Z",
     "start_time": "2023-05-14T22:08:38.985211Z"
    }
   },
   "outputs": [
    {
     "ename": "AttributeError",
     "evalue": "module 'string' has no attribute 'maketrans'",
     "output_type": "error",
     "traceback": [
      "\u001b[1;31m---------------------------------------------------------------------------\u001b[0m",
      "\u001b[1;31mAttributeError\u001b[0m                            Traceback (most recent call last)",
      "\u001b[1;32m<ipython-input-198-cd8348f27667>\u001b[0m in \u001b[0;36m<module>\u001b[1;34m\u001b[0m\n\u001b[1;32m----> 1\u001b[1;33m \u001b[0mDNA_strand\u001b[0m\u001b[1;33m(\u001b[0m\u001b[1;34m'TAAG'\u001b[0m\u001b[1;33m)\u001b[0m\u001b[1;33m\u001b[0m\u001b[1;33m\u001b[0m\u001b[0m\n\u001b[0m",
      "\u001b[1;32m<ipython-input-197-0fcc3b571a07>\u001b[0m in \u001b[0;36mDNA_strand\u001b[1;34m(dna)\u001b[0m\n\u001b[0;32m      1\u001b[0m \u001b[1;32mimport\u001b[0m \u001b[0mstring\u001b[0m\u001b[1;33m\u001b[0m\u001b[1;33m\u001b[0m\u001b[0m\n\u001b[0;32m      2\u001b[0m \u001b[1;32mdef\u001b[0m \u001b[0mDNA_strand\u001b[0m\u001b[1;33m(\u001b[0m\u001b[0mdna\u001b[0m\u001b[1;33m)\u001b[0m\u001b[1;33m:\u001b[0m\u001b[1;33m\u001b[0m\u001b[1;33m\u001b[0m\u001b[0m\n\u001b[1;32m----> 3\u001b[1;33m     \u001b[1;32mreturn\u001b[0m \u001b[0mdna\u001b[0m\u001b[1;33m.\u001b[0m\u001b[0mtranslate\u001b[0m\u001b[1;33m(\u001b[0m\u001b[0mstring\u001b[0m\u001b[1;33m.\u001b[0m\u001b[0mmaketrans\u001b[0m\u001b[1;33m(\u001b[0m\u001b[1;34m\"ATCG\"\u001b[0m\u001b[1;33m,\u001b[0m\u001b[1;34m\"TAGC\"\u001b[0m\u001b[1;33m)\u001b[0m\u001b[1;33m)\u001b[0m\u001b[1;33m\u001b[0m\u001b[1;33m\u001b[0m\u001b[0m\n\u001b[0m",
      "\u001b[1;31mAttributeError\u001b[0m: module 'string' has no attribute 'maketrans'"
     ]
    }
   ],
   "source": []
  },
  {
   "cell_type": "code",
   "execution_count": 199,
   "id": "922c3193",
   "metadata": {
    "ExecuteTime": {
     "end_time": "2023-05-14T22:09:58.349598Z",
     "start_time": "2023-05-14T22:09:58.329630Z"
    }
   },
   "outputs": [],
   "source": [
    "pairs = {'A':'T','T':'A','C':'G','G':'C'}\n",
    "def DNA_strand(dna):\n",
    "    return ''.join([pairs[x] for x in dna])"
   ]
  },
  {
   "cell_type": "code",
   "execution_count": 200,
   "id": "9729f27b",
   "metadata": {
    "ExecuteTime": {
     "end_time": "2023-05-14T22:10:06.521508Z",
     "start_time": "2023-05-14T22:10:06.509517Z"
    }
   },
   "outputs": [
    {
     "data": {
      "text/plain": [
       "'ATTC'"
      ]
     },
     "execution_count": 200,
     "metadata": {},
     "output_type": "execute_result"
    }
   ],
   "source": [
    "DNA_strand('TAAG')"
   ]
  },
  {
   "cell_type": "code",
   "execution_count": 201,
   "id": "73f84c97",
   "metadata": {
    "ExecuteTime": {
     "end_time": "2023-05-14T22:11:31.029744Z",
     "start_time": "2023-05-14T22:11:31.008756Z"
    }
   },
   "outputs": [],
   "source": []
  },
  {
   "cell_type": "code",
   "execution_count": 202,
   "id": "f987e323",
   "metadata": {
    "ExecuteTime": {
     "end_time": "2023-05-14T22:11:42.412356Z",
     "start_time": "2023-05-14T22:11:42.400367Z"
    }
   },
   "outputs": [
    {
     "data": {
      "text/plain": [
       "'T'"
      ]
     },
     "execution_count": 202,
     "metadata": {},
     "output_type": "execute_result"
    }
   ],
   "source": []
  },
  {
   "cell_type": "code",
   "execution_count": null,
   "id": "cb99eb9e",
   "metadata": {},
   "outputs": [],
   "source": []
  }
 ],
 "metadata": {
  "hide_input": false,
  "kernelspec": {
   "display_name": "Python 3",
   "language": "python",
   "name": "python3"
  },
  "language_info": {
   "codemirror_mode": {
    "name": "ipython",
    "version": 3
   },
   "file_extension": ".py",
   "mimetype": "text/x-python",
   "name": "python",
   "nbconvert_exporter": "python",
   "pygments_lexer": "ipython3",
   "version": "3.8.8"
  },
  "latex_envs": {
   "LaTeX_envs_menu_present": true,
   "autoclose": false,
   "autocomplete": true,
   "bibliofile": "biblio.bib",
   "cite_by": "apalike",
   "current_citInitial": 1,
   "eqLabelWithNumbers": true,
   "eqNumInitial": 1,
   "hotkeys": {
    "equation": "Ctrl-E",
    "itemize": "Ctrl-I"
   },
   "labels_anchors": false,
   "latex_user_defs": false,
   "report_style_numbering": false,
   "user_envs_cfg": false
  },
  "nbTranslate": {
   "displayLangs": [
    "*"
   ],
   "hotkey": "alt-t",
   "langInMainMenu": true,
   "sourceLang": "en",
   "targetLang": "fr",
   "useGoogleTranslate": true
  },
  "toc": {
   "base_numbering": 1,
   "nav_menu": {},
   "number_sections": true,
   "sideBar": true,
   "skip_h1_title": false,
   "title_cell": "Table of Contents",
   "title_sidebar": "Contents",
   "toc_cell": false,
   "toc_position": {},
   "toc_section_display": true,
   "toc_window_display": false
  },
  "varInspector": {
   "cols": {
    "lenName": 16,
    "lenType": 16,
    "lenVar": 40
   },
   "kernels_config": {
    "python": {
     "delete_cmd_postfix": "",
     "delete_cmd_prefix": "del ",
     "library": "var_list.py",
     "varRefreshCmd": "print(var_dic_list())"
    },
    "r": {
     "delete_cmd_postfix": ") ",
     "delete_cmd_prefix": "rm(",
     "library": "var_list.r",
     "varRefreshCmd": "cat(var_dic_list()) "
    }
   },
   "types_to_exclude": [
    "module",
    "function",
    "builtin_function_or_method",
    "instance",
    "_Feature"
   ],
   "window_display": false
  }
 },
 "nbformat": 4,
 "nbformat_minor": 5
}
