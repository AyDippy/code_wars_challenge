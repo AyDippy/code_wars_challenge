{
 "cells": [
  {
   "cell_type": "code",
   "execution_count": 1,
   "id": "88b31b36",
   "metadata": {},
   "outputs": [],
   "source": [
    "# Write a function that takes an array of numbers (integers for the tests) and a target number. It should find two different items in the array that, when added together, give the target value. The indices of these items should then be returned in a tuple / list (depending on your language) like so: (index1, index2).\n",
    "\n",
    "# For the purposes of this kata, some tests may have multiple answers; any valid solutions will be accepted.\n",
    "\n",
    "# The input will always be valid (numbers will be an array of length 2 or greater, and all of the items will be numbers; target will always be the sum of two different items from that array).\n",
    "\n",
    "# Based on: http://oj.leetcode.com/problems/two-sum/\n",
    "\n",
    "# two_sum([1, 2, 3], 4) # returns [0, 2] or [2, 0]"
   ]
  },
  {
   "cell_type": "code",
   "execution_count": 187,
   "id": "ebb78c9a",
   "metadata": {},
   "outputs": [],
   "source": [
    "def two_sum(numbers, target):\n",
    "    ans = []\n",
    "    if len(numbers) > 2:\n",
    "        for i,j in enumerate(numbers):\n",
    "            new = [a for b,a in enumerate(numbers) if b != i]\n",
    "            if len(numbers) - len(new) > 1:\n",
    "                ans.append(i)\n",
    "            for k,l in enumerate(new):\n",
    "                if numbers[i] + new[k] == target:\n",
    "                    ans.append(i)\n",
    "    else:\n",
    "        for c,o in enumerate(numbers):\n",
    "            ans.append(c)\n",
    "    return ans"
   ]
  },
  {
   "cell_type": "code",
   "execution_count": 188,
   "id": "c17351ec",
   "metadata": {},
   "outputs": [
    {
     "data": {
      "text/plain": [
       "[2, 3]"
      ]
     },
     "execution_count": 188,
     "metadata": {},
     "output_type": "execute_result"
    }
   ],
   "source": [
    "two_sum([12,8,11,7],18)"
   ]
  }
 ],
 "metadata": {
  "kernelspec": {
   "display_name": "Python 3 (ipykernel)",
   "language": "python",
   "name": "python3"
  },
  "language_info": {
   "codemirror_mode": {
    "name": "ipython",
    "version": 3
   },
   "file_extension": ".py",
   "mimetype": "text/x-python",
   "name": "python",
   "nbconvert_exporter": "python",
   "pygments_lexer": "ipython3",
   "version": "3.10.9"
  }
 },
 "nbformat": 4,
 "nbformat_minor": 5
}
