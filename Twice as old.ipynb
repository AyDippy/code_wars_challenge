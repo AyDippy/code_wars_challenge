{
 "cells": [
  {
   "cell_type": "code",
   "execution_count": 2,
   "id": "844ee7fb",
   "metadata": {
    "ExecuteTime": {
     "end_time": "2023-05-26T23:53:19.361227Z",
     "start_time": "2023-05-26T23:53:19.343240Z"
    }
   },
   "outputs": [],
   "source": [
    "#Your function takes two arguments:\n",
    "\n",
    "#current father's age (years)\n",
    "#current age of his son (years)\n",
    "#Сalculate how many years ago the father was twice as old as his son (or in how many years he will be twice as old). The answer is always greater or equal to 0, no matter if it was in the past or it is in the future."
   ]
  },
  {
   "cell_type": "code",
   "execution_count": 18,
   "id": "68e90eea",
   "metadata": {
    "ExecuteTime": {
     "end_time": "2023-05-27T00:41:43.510834Z",
     "start_time": "2023-05-27T00:41:43.483873Z"
    },
    "code_folding": []
   },
   "outputs": [
    {
     "data": {
      "text/plain": [
       "5"
      ]
     },
     "execution_count": 18,
     "metadata": {},
     "output_type": "execute_result"
    }
   ],
   "source": [
    "def twice_as_old(dad_years_old, son_years_old):\n",
    "    n = dad_years_old - 2 * son_years_old\n",
    "    if n >= 0:\n",
    "        return n\n",
    "    else:\n",
    "        return n * -1\n",
    "        \n",
    "twice_as_old(55,30)"
   ]
  },
  {
   "cell_type": "code",
   "execution_count": null,
   "id": "b6899c14",
   "metadata": {
    "ExecuteTime": {
     "end_time": "2023-05-27T00:39:24.598398Z",
     "start_time": "2023-05-27T00:39:24.582405Z"
    }
   },
   "outputs": [],
   "source": []
  },
  {
   "cell_type": "code",
   "execution_count": null,
   "id": "c0f52881",
   "metadata": {
    "ExecuteTime": {
     "end_time": "2023-05-27T00:39:10.256518Z",
     "start_time": "2023-05-27T00:39:10.225554Z"
    }
   },
   "outputs": [],
   "source": []
  },
  {
   "cell_type": "code",
   "execution_count": null,
   "id": "f8f15858",
   "metadata": {},
   "outputs": [],
   "source": []
  }
 ],
 "metadata": {
  "hide_input": false,
  "kernelspec": {
   "display_name": "Python 3",
   "language": "python",
   "name": "python3"
  },
  "language_info": {
   "codemirror_mode": {
    "name": "ipython",
    "version": 3
   },
   "file_extension": ".py",
   "mimetype": "text/x-python",
   "name": "python",
   "nbconvert_exporter": "python",
   "pygments_lexer": "ipython3",
   "version": "3.8.8"
  },
  "latex_envs": {
   "LaTeX_envs_menu_present": true,
   "autoclose": false,
   "autocomplete": true,
   "bibliofile": "biblio.bib",
   "cite_by": "apalike",
   "current_citInitial": 1,
   "eqLabelWithNumbers": true,
   "eqNumInitial": 1,
   "hotkeys": {
    "equation": "Ctrl-E",
    "itemize": "Ctrl-I"
   },
   "labels_anchors": false,
   "latex_user_defs": false,
   "report_style_numbering": false,
   "user_envs_cfg": false
  },
  "nbTranslate": {
   "displayLangs": [
    "*"
   ],
   "hotkey": "alt-t",
   "langInMainMenu": true,
   "sourceLang": "en",
   "targetLang": "fr",
   "useGoogleTranslate": true
  },
  "toc": {
   "base_numbering": 1,
   "nav_menu": {},
   "number_sections": true,
   "sideBar": true,
   "skip_h1_title": false,
   "title_cell": "Table of Contents",
   "title_sidebar": "Contents",
   "toc_cell": false,
   "toc_position": {},
   "toc_section_display": true,
   "toc_window_display": false
  },
  "varInspector": {
   "cols": {
    "lenName": 16,
    "lenType": 16,
    "lenVar": 40
   },
   "kernels_config": {
    "python": {
     "delete_cmd_postfix": "",
     "delete_cmd_prefix": "del ",
     "library": "var_list.py",
     "varRefreshCmd": "print(var_dic_list())"
    },
    "r": {
     "delete_cmd_postfix": ") ",
     "delete_cmd_prefix": "rm(",
     "library": "var_list.r",
     "varRefreshCmd": "cat(var_dic_list()) "
    }
   },
   "types_to_exclude": [
    "module",
    "function",
    "builtin_function_or_method",
    "instance",
    "_Feature"
   ],
   "window_display": false
  }
 },
 "nbformat": 4,
 "nbformat_minor": 5
}
