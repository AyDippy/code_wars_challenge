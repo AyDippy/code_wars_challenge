{
 "cells": [
  {
   "cell_type": "code",
   "execution_count": 1,
   "id": "bc3e56b2",
   "metadata": {},
   "outputs": [],
   "source": [
    "# Define String.prototype.toAlternatingCase (or a similar function/method such as to_alternating_case/toAlternatingCase/ToAlternatingCase in your selected language; see the initial solution for details) such that each lowercase letter becomes uppercase and each uppercase letter becomes lowercase. For example:\n",
    "\n",
    "# \"hello world\".toAlternatingCase() === \"HELLO WORLD\"\n",
    "# \"HELLO WORLD\".toAlternatingCase() === \"hello world\"\n",
    "# \"hello WORLD\".toAlternatingCase() === \"HELLO world\"\n",
    "# \"HeLLo WoRLD\".toAlternatingCase() === \"hEllO wOrld\"\n",
    "# \"12345\".toAlternatingCase()       === \"12345\"                   // Non-alphabetical characters are unaffected\n",
    "# \"1a2b3c4d5e\".toAlternatingCase()  === \"1A2B3C4D5E\"\n",
    "# \"String.prototype.toAlternatingCase\".toAlternatingCase() === \"sTRING.PROTOTYPE.TOaLTERNATINGcASE\"\n",
    "# As usual, your function/method should be pure, i.e. it should not mutate the original string."
   ]
  },
  {
   "cell_type": "code",
   "execution_count": 4,
   "id": "9d02d882",
   "metadata": {},
   "outputs": [],
   "source": [
    "def to_alternating_case(string):\n",
    "    ans = []\n",
    "    for i in string:\n",
    "        if i.islower():\n",
    "            ans.append(i.capitalize())\n",
    "        elif i.isupper:\n",
    "            ans.append(i.lower())\n",
    "        else:\n",
    "            ans.append(i)\n",
    "    final = ''.join(ans)\n",
    "    return final"
   ]
  },
  {
   "cell_type": "code",
   "execution_count": 7,
   "id": "10302959",
   "metadata": {},
   "outputs": [
    {
     "data": {
      "text/plain": [
       "'12345'"
      ]
     },
     "execution_count": 7,
     "metadata": {},
     "output_type": "execute_result"
    }
   ],
   "source": [
    "to_alternating_case('12345')"
   ]
  },
  {
   "cell_type": "code",
   "execution_count": null,
   "id": "7cdfac3e",
   "metadata": {},
   "outputs": [],
   "source": []
  }
 ],
 "metadata": {
  "kernelspec": {
   "display_name": "Python 3 (ipykernel)",
   "language": "python",
   "name": "python3"
  },
  "language_info": {
   "codemirror_mode": {
    "name": "ipython",
    "version": 3
   },
   "file_extension": ".py",
   "mimetype": "text/x-python",
   "name": "python",
   "nbconvert_exporter": "python",
   "pygments_lexer": "ipython3",
   "version": "3.10.9"
  }
 },
 "nbformat": 4,
 "nbformat_minor": 5
}
