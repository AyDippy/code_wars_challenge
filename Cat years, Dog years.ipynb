{
 "cells": [
  {
   "cell_type": "code",
   "execution_count": 1,
   "id": "38d2db7e",
   "metadata": {},
   "outputs": [],
   "source": [
    "# I have a cat and a dog.\n",
    "\n",
    "# I got them at the same time as kitten/puppy. That was humanYears years ago.\n",
    "\n",
    "# Return their respective ages now as [humanYears,catYears,dogYears]\n",
    "\n",
    "# NOTES:\n",
    "\n",
    "# humanYears >= 1\n",
    "# humanYears are whole numbers only\n",
    "# Cat Years\n",
    "# 15 cat years for first year\n",
    "# +9 cat years for second year\n",
    "# +4 cat years for each year after that\n",
    "# Dog Years\n",
    "# 15 dog years for first year\n",
    "# +9 dog years for second year\n",
    "# +5 dog years for each year after that"
   ]
  },
  {
   "cell_type": "code",
   "execution_count": 34,
   "id": "60919405",
   "metadata": {},
   "outputs": [],
   "source": [
    "def human_years_cat_years_dog_years(human_years):\n",
    "    catYears = 0\n",
    "    dogYears = 0\n",
    "    if human_years == 1:\n",
    "        catYears += 15\n",
    "        dogYears += 15\n",
    "    elif human_years == 2:\n",
    "        catYears += 24\n",
    "        dogYears += 24\n",
    "    elif human_years > 2:\n",
    "        catYears = 24 + (human_years-2) * 4\n",
    "        dogYears = 24 + (human_years-2) * 5\n",
    "    ans = [human_years, catYears, dogYears]\n",
    "    return ans"
   ]
  },
  {
   "cell_type": "code",
   "execution_count": 36,
   "id": "afcc7538",
   "metadata": {},
   "outputs": [
    {
     "data": {
      "text/plain": [
       "[20, 96, 114]"
      ]
     },
     "execution_count": 36,
     "metadata": {},
     "output_type": "execute_result"
    }
   ],
   "source": [
    "human_years_cat_years_dog_years(20)"
   ]
  },
  {
   "cell_type": "code",
   "execution_count": null,
   "id": "c01b8b51",
   "metadata": {},
   "outputs": [],
   "source": []
  }
 ],
 "metadata": {
  "kernelspec": {
   "display_name": "Python 3 (ipykernel)",
   "language": "python",
   "name": "python3"
  },
  "language_info": {
   "codemirror_mode": {
    "name": "ipython",
    "version": 3
   },
   "file_extension": ".py",
   "mimetype": "text/x-python",
   "name": "python",
   "nbconvert_exporter": "python",
   "pygments_lexer": "ipython3",
   "version": "3.10.9"
  }
 },
 "nbformat": 4,
 "nbformat_minor": 5
}
