{
 "cells": [
  {
   "cell_type": "code",
   "execution_count": 115,
   "id": "bfb6c439",
   "metadata": {},
   "outputs": [],
   "source": [
    "# Complete the solution so that the function will break up camel casing, using a space between words.\n",
    "\n",
    "# Example\n",
    "# \"camelCasing\"  =>  \"camel Casing\"\n",
    "# \"identifier\"   =>  \"identifier\"\n",
    "# \"\"             =>  \"\""
   ]
  },
  {
   "cell_type": "code",
   "execution_count": 116,
   "id": "cb6df52c",
   "metadata": {},
   "outputs": [],
   "source": [
    "def solution(s):\n",
    "    bl = list(s)\n",
    "    val = [i for i,j in enumerate(bl) if j.isupper()]\n",
    "    num = [j for i,j in enumerate(bl) if j.isupper()]\n",
    "    if len(num) > 0:\n",
    "        for i,j in zip(val, num):\n",
    "            bl[i] = f' {j}'\n",
    "            ans = ''.join(bl)\n",
    "        return ans\n",
    "    else:\n",
    "        return s"
   ]
  },
  {
   "cell_type": "code",
   "execution_count": 118,
   "id": "6d0ecbfb",
   "metadata": {},
   "outputs": [
    {
     "data": {
      "text/plain": [
       "'break Camel Case'"
      ]
     },
     "execution_count": 118,
     "metadata": {},
     "output_type": "execute_result"
    }
   ],
   "source": [
    "solution('breakCamelCase')"
   ]
  },
  {
   "cell_type": "code",
   "execution_count": null,
   "id": "f347caaa",
   "metadata": {},
   "outputs": [],
   "source": []
  }
 ],
 "metadata": {
  "kernelspec": {
   "display_name": "Python 3 (ipykernel)",
   "language": "python",
   "name": "python3"
  },
  "language_info": {
   "codemirror_mode": {
    "name": "ipython",
    "version": 3
   },
   "file_extension": ".py",
   "mimetype": "text/x-python",
   "name": "python",
   "nbconvert_exporter": "python",
   "pygments_lexer": "ipython3",
   "version": "3.10.9"
  }
 },
 "nbformat": 4,
 "nbformat_minor": 5
}
