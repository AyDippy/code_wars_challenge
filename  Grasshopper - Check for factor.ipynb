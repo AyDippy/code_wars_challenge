{
 "cells": [
  {
   "cell_type": "code",
   "execution_count": 1,
   "id": "5a171f4b",
   "metadata": {},
   "outputs": [],
   "source": [
    "# About factors\n",
    "# Factors are numbers you can multiply together to get another number.\n",
    "\n",
    "# 2 and 3 are factors of 6 because: 2 * 3 = 6\n",
    "\n",
    "# You can find a factor by dividing numbers. If the remainder is 0 then the number is a factor.\n",
    "# You can use the mod operator (%) in most languages to check for a remainder\n",
    "# For example 2 is not a factor of 7 because: 7 % 2 = 1\n",
    "\n",
    "# Note: base is a non-negative number, factor is a positive number."
   ]
  },
  {
   "cell_type": "code",
   "execution_count": 2,
   "id": "12858deb",
   "metadata": {},
   "outputs": [],
   "source": [
    "def check_for_factor(base, factor):\n",
    "    if base % factor == 0:\n",
    "        return True\n",
    "    else:\n",
    "        return False\n",
    "        "
   ]
  },
  {
   "cell_type": "code",
   "execution_count": 3,
   "id": "b01905ac",
   "metadata": {},
   "outputs": [
    {
     "data": {
      "text/plain": [
       "True"
      ]
     },
     "execution_count": 3,
     "metadata": {},
     "output_type": "execute_result"
    }
   ],
   "source": [
    "check_for_factor(6,3)"
   ]
  },
  {
   "cell_type": "code",
   "execution_count": null,
   "id": "6baf66e5",
   "metadata": {},
   "outputs": [],
   "source": []
  }
 ],
 "metadata": {
  "kernelspec": {
   "display_name": "Python 3 (ipykernel)",
   "language": "python",
   "name": "python3"
  },
  "language_info": {
   "codemirror_mode": {
    "name": "ipython",
    "version": 3
   },
   "file_extension": ".py",
   "mimetype": "text/x-python",
   "name": "python",
   "nbconvert_exporter": "python",
   "pygments_lexer": "ipython3",
   "version": "3.10.9"
  }
 },
 "nbformat": 4,
 "nbformat_minor": 5
}
